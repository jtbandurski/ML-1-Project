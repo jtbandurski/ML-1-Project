{
 "cells": [
  {
   "attachments": {},
   "cell_type": "markdown",
   "metadata": {},
   "source": [
    "# Regularised Logistic regression as the benchmark model"
   ]
  },
  {
   "attachments": {},
   "cell_type": "markdown",
   "metadata": {},
   "source": [
    "## Imports"
   ]
  },
  {
   "cell_type": "code",
   "execution_count": 130,
   "metadata": {},
   "outputs": [],
   "source": [
    "import pandas as pd\n",
    "import numpy as np\n",
    "from sklearn.model_selection import train_test_split, RepeatedStratifiedKFold, cross_validate, GridSearchCV\n",
    "from sklearn.linear_model import LogisticRegression\n",
    "from sklearn.metrics import balanced_accuracy_score, precision_recall_curve\n",
    "from time import time"
   ]
  },
  {
   "attachments": {},
   "cell_type": "markdown",
   "metadata": {},
   "source": [
    "## Data\n",
    "already preprocessed"
   ]
  },
  {
   "cell_type": "code",
   "execution_count": 110,
   "metadata": {},
   "outputs": [
    {
     "name": "stdout",
     "output_type": "stream",
     "text": [
      "(10127, 37)\n"
     ]
    }
   ],
   "source": [
    "client_attrition = pd.read_csv('../data/preprocessed/client_attrition_train.csv', sep=\";\")\n",
    "X = client_attrition.drop(\"account_status\",axis=1)\n",
    "y = client_attrition[\"account_status\"]\n",
    "print(X.shape)"
   ]
  },
  {
   "attachments": {},
   "cell_type": "markdown",
   "metadata": {},
   "source": [
    "## Train /  test split"
   ]
  },
  {
   "cell_type": "code",
   "execution_count": 16,
   "metadata": {},
   "outputs": [],
   "source": [
    "X_train, X_test, y_train, y_test = train_test_split(X, y, test_size=0.2, random_state=12345,stratify=y)"
   ]
  },
  {
   "attachments": {},
   "cell_type": "markdown",
   "metadata": {},
   "source": [
    "## Logistic regression fit"
   ]
  },
  {
   "cell_type": "code",
   "execution_count": 21,
   "metadata": {},
   "outputs": [
    {
     "name": "stderr",
     "output_type": "stream",
     "text": [
      "[Parallel(n_jobs=1)]: Using backend SequentialBackend with 1 concurrent workers.\n"
     ]
    },
    {
     "name": "stdout",
     "output_type": "stream",
     "text": [
      "convergence after 183 epochs took 1 seconds\n"
     ]
    },
    {
     "name": "stderr",
     "output_type": "stream",
     "text": [
      "[Parallel(n_jobs=1)]: Done   1 out of   1 | elapsed:    0.7s finished\n"
     ]
    }
   ],
   "source": [
    "# instantiate the model (using the default parameters)\n",
    "logit = LogisticRegression(penalty='l1',solver='saga',max_iter=1000,random_state=12345,verbose=1)\n",
    "\n",
    "# fit the model with data\n",
    "logit.fit(X_train, y_train)\n",
    "\n",
    "y_pred = logit.predict(X_test)"
   ]
  },
  {
   "cell_type": "code",
   "execution_count": 29,
   "metadata": {},
   "outputs": [
    {
     "data": {
      "text/plain": [
       "0.716503414281192"
      ]
     },
     "execution_count": 29,
     "metadata": {},
     "output_type": "execute_result"
    }
   ],
   "source": [
    "balanced_accuracy_score(y_true=y_test,y_pred=y_pred)"
   ]
  },
  {
   "cell_type": "code",
   "execution_count": 45,
   "metadata": {},
   "outputs": [
    {
     "data": {
      "text/plain": [
       "customer_education_High School          customer_education_High School\n",
       "customer_civil_status_Divorced          customer_civil_status_Divorced\n",
       "credit_card_classification_Silver    credit_card_classification_Silver\n",
       "customer_salary_range_below 40K        customer_salary_range_below 40K\n",
       "dtype: object"
      ]
     },
     "execution_count": 45,
     "metadata": {},
     "output_type": "execute_result"
    }
   ],
   "source": [
    "# Whic coefficients are 0\n",
    "X_train.columns.to_series().loc[(abs(logit.coef_)==0).tolist()[0]]"
   ]
  },
  {
   "attachments": {},
   "cell_type": "markdown",
   "metadata": {},
   "source": [
    "## Grid Search\n",
    "Using Repeated Stratified KFold Cross Validation"
   ]
  },
  {
   "cell_type": "code",
   "execution_count": 149,
   "metadata": {},
   "outputs": [],
   "source": [
    "# Grid search results to df\n",
    "def gs_to_df(grid_search):\n",
    "    df = pd.DataFrame()\n",
    "    for param in param_grid[0].keys():\n",
    "        df[param] = 0\n",
    "    df[\"mean_train_score\"] = df[\"std_train_score\"] = df[\"mean_test_score\"] = df[\"std_test_score\"] = 0\n",
    "    for i in range(len(grid_search.cv_results_['params'])):\n",
    "        new_row = grid_search.cv_results_['params'][i] | {\"mean_train_score\": grid_search.cv_results_['mean_train_score'][i],\n",
    "                                                            \"std_train_score\": grid_search.cv_results_['std_train_score'][i],\n",
    "                                                            \"mean_test_score\": grid_search.cv_results_['mean_test_score'][i],\n",
    "                                                            \"std_test_score\": grid_search.cv_results_['std_test_score'][i]}\n",
    "        df.loc[len(df)] = new_row\n",
    "\n",
    "    return df\n",
    "    "
   ]
  },
  {
   "cell_type": "code",
   "execution_count": 146,
   "metadata": {},
   "outputs": [
    {
     "data": {
      "text/plain": [
       "({'penalty': 'l2', 'solver': 'lbfgs'},\n",
       " array([0.01684924, 0.01679872, 0.01681834, 0.01684924, 0.01684924,\n",
       "        0.01679872, 0.01684924, 0.0168373 , 0.01684924, 0.01679872,\n",
       "               nan, 0.01681834, 0.01684924, 0.01679872]))"
      ]
     },
     "execution_count": 146,
     "metadata": {},
     "output_type": "execute_result"
    }
   ],
   "source": [
    "grid_search.cv_results_['params'][0],grid_search.cv_results_['std_test_score']"
   ]
  },
  {
   "cell_type": "code",
   "execution_count": 132,
   "metadata": {},
   "outputs": [
    {
     "name": "stdout",
     "output_type": "stream",
     "text": [
      "Fitting 20 folds for each of 14 candidates, totalling 280 fits\n",
      "--- 8.515522241592407 seconds ---\n"
     ]
    },
    {
     "name": "stderr",
     "output_type": "stream",
     "text": [
      "C:\\Users\\jakub\\AppData\\Local\\Packages\\PythonSoftwareFoundation.Python.3.10_qbz5n2kfra8p0\\LocalCache\\local-packages\\Python310\\site-packages\\sklearn\\model_selection\\_validation.py:378: FitFailedWarning: \n",
      "20 fits failed out of a total of 280.\n",
      "The score on these train-test partitions for these parameters will be set to nan.\n",
      "If these failures are not expected, you can try to debug them by setting error_score='raise'.\n",
      "\n",
      "Below are more details about the failures:\n",
      "--------------------------------------------------------------------------------\n",
      "20 fits failed with the following error:\n",
      "Traceback (most recent call last):\n",
      "  File \"C:\\Users\\jakub\\AppData\\Local\\Packages\\PythonSoftwareFoundation.Python.3.10_qbz5n2kfra8p0\\LocalCache\\local-packages\\Python310\\site-packages\\sklearn\\model_selection\\_validation.py\", line 686, in _fit_and_score\n",
      "    estimator.fit(X_train, y_train, **fit_params)\n",
      "  File \"C:\\Users\\jakub\\AppData\\Local\\Packages\\PythonSoftwareFoundation.Python.3.10_qbz5n2kfra8p0\\LocalCache\\local-packages\\Python310\\site-packages\\sklearn\\linear_model\\_logistic.py\", line 1291, in fit\n",
      "    fold_coefs_ = Parallel(n_jobs=self.n_jobs, verbose=self.verbose, prefer=prefer)(\n",
      "  File \"C:\\Users\\jakub\\AppData\\Local\\Packages\\PythonSoftwareFoundation.Python.3.10_qbz5n2kfra8p0\\LocalCache\\local-packages\\Python310\\site-packages\\joblib\\parallel.py\", line 1085, in __call__\n",
      "    if self.dispatch_one_batch(iterator):\n",
      "  File \"C:\\Users\\jakub\\AppData\\Local\\Packages\\PythonSoftwareFoundation.Python.3.10_qbz5n2kfra8p0\\LocalCache\\local-packages\\Python310\\site-packages\\joblib\\parallel.py\", line 901, in dispatch_one_batch\n",
      "    self._dispatch(tasks)\n",
      "  File \"C:\\Users\\jakub\\AppData\\Local\\Packages\\PythonSoftwareFoundation.Python.3.10_qbz5n2kfra8p0\\LocalCache\\local-packages\\Python310\\site-packages\\joblib\\parallel.py\", line 819, in _dispatch\n",
      "    job = self._backend.apply_async(batch, callback=cb)\n",
      "  File \"C:\\Users\\jakub\\AppData\\Local\\Packages\\PythonSoftwareFoundation.Python.3.10_qbz5n2kfra8p0\\LocalCache\\local-packages\\Python310\\site-packages\\joblib\\_parallel_backends.py\", line 208, in apply_async\n",
      "    result = ImmediateResult(func)\n",
      "  File \"C:\\Users\\jakub\\AppData\\Local\\Packages\\PythonSoftwareFoundation.Python.3.10_qbz5n2kfra8p0\\LocalCache\\local-packages\\Python310\\site-packages\\joblib\\_parallel_backends.py\", line 597, in __init__\n",
      "    self.results = batch()\n",
      "  File \"C:\\Users\\jakub\\AppData\\Local\\Packages\\PythonSoftwareFoundation.Python.3.10_qbz5n2kfra8p0\\LocalCache\\local-packages\\Python310\\site-packages\\joblib\\parallel.py\", line 288, in __call__\n",
      "    return [func(*args, **kwargs)\n",
      "  File \"C:\\Users\\jakub\\AppData\\Local\\Packages\\PythonSoftwareFoundation.Python.3.10_qbz5n2kfra8p0\\LocalCache\\local-packages\\Python310\\site-packages\\joblib\\parallel.py\", line 288, in <listcomp>\n",
      "    return [func(*args, **kwargs)\n",
      "  File \"C:\\Users\\jakub\\AppData\\Local\\Packages\\PythonSoftwareFoundation.Python.3.10_qbz5n2kfra8p0\\LocalCache\\local-packages\\Python310\\site-packages\\sklearn\\utils\\fixes.py\", line 117, in __call__\n",
      "    return self.function(*args, **kwargs)\n",
      "  File \"C:\\Users\\jakub\\AppData\\Local\\Packages\\PythonSoftwareFoundation.Python.3.10_qbz5n2kfra8p0\\LocalCache\\local-packages\\Python310\\site-packages\\sklearn\\linear_model\\_logistic.py\", line 521, in _logistic_regression_path\n",
      "    alpha = (1.0 / C) * (1 - l1_ratio)\n",
      "TypeError: unsupported operand type(s) for -: 'int' and 'NoneType'\n",
      "\n",
      "  warnings.warn(some_fits_failed_message, FitFailedWarning)\n",
      "C:\\Users\\jakub\\AppData\\Local\\Packages\\PythonSoftwareFoundation.Python.3.10_qbz5n2kfra8p0\\LocalCache\\local-packages\\Python310\\site-packages\\sklearn\\model_selection\\_search.py:953: UserWarning: One or more of the test scores are non-finite: [0.73567228 0.73573837 0.73554926 0.73567228 0.73567228 0.73573837\n",
      " 0.73567228 0.73573837 0.73567228 0.73573837        nan 0.73554926\n",
      " 0.73567228 0.73573837]\n",
      "  warnings.warn(\n",
      "C:\\Users\\jakub\\AppData\\Local\\Packages\\PythonSoftwareFoundation.Python.3.10_qbz5n2kfra8p0\\LocalCache\\local-packages\\Python310\\site-packages\\sklearn\\model_selection\\_search.py:953: UserWarning: One or more of the train scores are non-finite: [0.73960871 0.74000436 0.73976246 0.73966795 0.73960871 0.74000436\n",
      " 0.73960871 0.73993931 0.73962906 0.74000109        nan 0.73975192\n",
      " 0.73960544 0.73999382]\n",
      "  warnings.warn(\n"
     ]
    }
   ],
   "source": [
    "start_time = time()\n",
    "# Grid \n",
    "param_grid = [{'penalty': ['l2',None], 'solver': [\"lbfgs\"]}, {'penalty': ['l1', 'l2'], 'solver': [\"liblinear\"]},\n",
    "                {'penalty': ['l2',None], 'solver': [\"newton-cg\"]}, {'penalty': ['l2',None], 'solver': [\"newton-cholesky\"]},\n",
    "                {'penalty': ['l2',None], 'solver': [\"sag\"]}, {'penalty': ['elasticnet', 'l1', 'l2', None], 'solver': [\"saga\"]}]\n",
    "# Cross Validation\n",
    "rskf = RepeatedStratifiedKFold(n_splits=10, n_repeats=2,random_state=12345)\n",
    "# Grid Search\n",
    "grid_search = GridSearchCV(estimator=LogisticRegression(), param_grid=param_grid, scoring=\"balanced_accuracy\", \n",
    "                            n_jobs=12, cv=rskf, verbose=3, return_train_score=True)\n",
    "grid_search.fit(X,y)\n",
    "print(\"--- %s seconds ---\" % (time() - start_time))"
   ]
  },
  {
   "cell_type": "code",
   "execution_count": 150,
   "metadata": {},
   "outputs": [
    {
     "data": {
      "text/html": [
       "<div>\n",
       "<style scoped>\n",
       "    .dataframe tbody tr th:only-of-type {\n",
       "        vertical-align: middle;\n",
       "    }\n",
       "\n",
       "    .dataframe tbody tr th {\n",
       "        vertical-align: top;\n",
       "    }\n",
       "\n",
       "    .dataframe thead th {\n",
       "        text-align: right;\n",
       "    }\n",
       "</style>\n",
       "<table border=\"1\" class=\"dataframe\">\n",
       "  <thead>\n",
       "    <tr style=\"text-align: right;\">\n",
       "      <th></th>\n",
       "      <th>penalty</th>\n",
       "      <th>solver</th>\n",
       "      <th>mean_train_score</th>\n",
       "      <th>std_train_score</th>\n",
       "      <th>mean_test_score</th>\n",
       "      <th>std_test_score</th>\n",
       "    </tr>\n",
       "  </thead>\n",
       "  <tbody>\n",
       "    <tr>\n",
       "      <th>1</th>\n",
       "      <td>None</td>\n",
       "      <td>lbfgs</td>\n",
       "      <td>0.7400043606</td>\n",
       "      <td>0.0024195763</td>\n",
       "      <td>0.7357383661</td>\n",
       "      <td>0.0167987152</td>\n",
       "    </tr>\n",
       "    <tr>\n",
       "      <th>5</th>\n",
       "      <td>None</td>\n",
       "      <td>newton-cg</td>\n",
       "      <td>0.7400043606</td>\n",
       "      <td>0.0024195763</td>\n",
       "      <td>0.7357383661</td>\n",
       "      <td>0.0167987152</td>\n",
       "    </tr>\n",
       "    <tr>\n",
       "      <th>7</th>\n",
       "      <td>None</td>\n",
       "      <td>newton-cholesky</td>\n",
       "      <td>0.7399393109</td>\n",
       "      <td>0.0024338617</td>\n",
       "      <td>0.7357383661</td>\n",
       "      <td>0.0168372954</td>\n",
       "    </tr>\n",
       "    <tr>\n",
       "      <th>9</th>\n",
       "      <td>None</td>\n",
       "      <td>sag</td>\n",
       "      <td>0.7400010926</td>\n",
       "      <td>0.0024129954</td>\n",
       "      <td>0.7357383661</td>\n",
       "      <td>0.0167987152</td>\n",
       "    </tr>\n",
       "    <tr>\n",
       "      <th>13</th>\n",
       "      <td>None</td>\n",
       "      <td>saga</td>\n",
       "      <td>0.7399938200</td>\n",
       "      <td>0.0024525187</td>\n",
       "      <td>0.7357383661</td>\n",
       "      <td>0.0167987152</td>\n",
       "    </tr>\n",
       "    <tr>\n",
       "      <th>0</th>\n",
       "      <td>l2</td>\n",
       "      <td>lbfgs</td>\n",
       "      <td>0.7396087128</td>\n",
       "      <td>0.0025439480</td>\n",
       "      <td>0.7356722804</td>\n",
       "      <td>0.0168492376</td>\n",
       "    </tr>\n",
       "    <tr>\n",
       "      <th>3</th>\n",
       "      <td>l2</td>\n",
       "      <td>liblinear</td>\n",
       "      <td>0.7396679515</td>\n",
       "      <td>0.0025837998</td>\n",
       "      <td>0.7356722804</td>\n",
       "      <td>0.0168492376</td>\n",
       "    </tr>\n",
       "    <tr>\n",
       "      <th>4</th>\n",
       "      <td>l2</td>\n",
       "      <td>newton-cg</td>\n",
       "      <td>0.7396087128</td>\n",
       "      <td>0.0025439480</td>\n",
       "      <td>0.7356722804</td>\n",
       "      <td>0.0168492376</td>\n",
       "    </tr>\n",
       "    <tr>\n",
       "      <th>6</th>\n",
       "      <td>l2</td>\n",
       "      <td>newton-cholesky</td>\n",
       "      <td>0.7396087128</td>\n",
       "      <td>0.0025439480</td>\n",
       "      <td>0.7356722804</td>\n",
       "      <td>0.0168492376</td>\n",
       "    </tr>\n",
       "    <tr>\n",
       "      <th>8</th>\n",
       "      <td>l2</td>\n",
       "      <td>sag</td>\n",
       "      <td>0.7396290573</td>\n",
       "      <td>0.0025422555</td>\n",
       "      <td>0.7356722804</td>\n",
       "      <td>0.0168492376</td>\n",
       "    </tr>\n",
       "    <tr>\n",
       "      <th>12</th>\n",
       "      <td>l2</td>\n",
       "      <td>saga</td>\n",
       "      <td>0.7396054448</td>\n",
       "      <td>0.0025247737</td>\n",
       "      <td>0.7356722804</td>\n",
       "      <td>0.0168492376</td>\n",
       "    </tr>\n",
       "    <tr>\n",
       "      <th>2</th>\n",
       "      <td>l1</td>\n",
       "      <td>liblinear</td>\n",
       "      <td>0.7397624596</td>\n",
       "      <td>0.0024432794</td>\n",
       "      <td>0.7355492647</td>\n",
       "      <td>0.0168183439</td>\n",
       "    </tr>\n",
       "    <tr>\n",
       "      <th>11</th>\n",
       "      <td>l1</td>\n",
       "      <td>saga</td>\n",
       "      <td>0.7397519190</td>\n",
       "      <td>0.0024183775</td>\n",
       "      <td>0.7355492647</td>\n",
       "      <td>0.0168183439</td>\n",
       "    </tr>\n",
       "    <tr>\n",
       "      <th>10</th>\n",
       "      <td>elasticnet</td>\n",
       "      <td>saga</td>\n",
       "      <td>NaN</td>\n",
       "      <td>NaN</td>\n",
       "      <td>NaN</td>\n",
       "      <td>NaN</td>\n",
       "    </tr>\n",
       "  </tbody>\n",
       "</table>\n",
       "</div>"
      ],
      "text/plain": [
       "       penalty           solver  mean_train_score  std_train_score  \\\n",
       "1         None            lbfgs      0.7400043606     0.0024195763   \n",
       "5         None        newton-cg      0.7400043606     0.0024195763   \n",
       "7         None  newton-cholesky      0.7399393109     0.0024338617   \n",
       "9         None              sag      0.7400010926     0.0024129954   \n",
       "13        None             saga      0.7399938200     0.0024525187   \n",
       "0           l2            lbfgs      0.7396087128     0.0025439480   \n",
       "3           l2        liblinear      0.7396679515     0.0025837998   \n",
       "4           l2        newton-cg      0.7396087128     0.0025439480   \n",
       "6           l2  newton-cholesky      0.7396087128     0.0025439480   \n",
       "8           l2              sag      0.7396290573     0.0025422555   \n",
       "12          l2             saga      0.7396054448     0.0025247737   \n",
       "2           l1        liblinear      0.7397624596     0.0024432794   \n",
       "11          l1             saga      0.7397519190     0.0024183775   \n",
       "10  elasticnet             saga               NaN              NaN   \n",
       "\n",
       "    mean_test_score  std_test_score  \n",
       "1      0.7357383661    0.0167987152  \n",
       "5      0.7357383661    0.0167987152  \n",
       "7      0.7357383661    0.0168372954  \n",
       "9      0.7357383661    0.0167987152  \n",
       "13     0.7357383661    0.0167987152  \n",
       "0      0.7356722804    0.0168492376  \n",
       "3      0.7356722804    0.0168492376  \n",
       "4      0.7356722804    0.0168492376  \n",
       "6      0.7356722804    0.0168492376  \n",
       "8      0.7356722804    0.0168492376  \n",
       "12     0.7356722804    0.0168492376  \n",
       "2      0.7355492647    0.0168183439  \n",
       "11     0.7355492647    0.0168183439  \n",
       "10              NaN             NaN  "
      ]
     },
     "execution_count": 150,
     "metadata": {},
     "output_type": "execute_result"
    }
   ],
   "source": [
    "df = gs_to_df(grid_search=grid_search)\n",
    "df.sort_values(ascending=False,by=\"mean_test_score\").to_csv('./results/logit_metrics_2_10_cv.csv', index=False,sep=';')\n",
    "df.sort_values(ascending=False,by=\"mean_test_score\")"
   ]
  },
  {
   "attachments": {},
   "cell_type": "markdown",
   "metadata": {},
   "source": [
    "## Kfold Cross Validation\n",
    "Although there are no hyperparameters to be tuned other than penalty and solvers we want to get more accurate approximation of true balanced accuracy."
   ]
  },
  {
   "cell_type": "code",
   "execution_count": 120,
   "metadata": {},
   "outputs": [],
   "source": [
    "def cv_rskf(model ,n_splits, n_repeats, seed):\n",
    "    rskf = RepeatedStratifiedKFold(n_splits=n_splits, n_repeats=n_repeats,random_state=seed)\n",
    "    cv_results = cross_validate(estimator=model, X=X, y=y, scoring=\"balanced_accuracy\", cv=rskf, verbose=2,\n",
    "                                n_jobs=12, return_train_score=True)\n",
    "    return cv_results"
   ]
  },
  {
   "cell_type": "code",
   "execution_count": 121,
   "metadata": {},
   "outputs": [],
   "source": [
    "summary_df2 = pd.DataFrame(columns=['penalty', 'solver','average train score', 'std of train score','average val score', 'std of val score'])"
   ]
  },
  {
   "cell_type": "code",
   "execution_count": 127,
   "metadata": {},
   "outputs": [
    {
     "data": {
      "text/html": [
       "<div>\n",
       "<style scoped>\n",
       "    .dataframe tbody tr th:only-of-type {\n",
       "        vertical-align: middle;\n",
       "    }\n",
       "\n",
       "    .dataframe tbody tr th {\n",
       "        vertical-align: top;\n",
       "    }\n",
       "\n",
       "    .dataframe thead th {\n",
       "        text-align: right;\n",
       "    }\n",
       "</style>\n",
       "<table border=\"1\" class=\"dataframe\">\n",
       "  <thead>\n",
       "    <tr style=\"text-align: right;\">\n",
       "      <th></th>\n",
       "      <th>penalty</th>\n",
       "      <th>solver</th>\n",
       "      <th>average train score</th>\n",
       "      <th>std of train score</th>\n",
       "      <th>average val score</th>\n",
       "      <th>std of val score</th>\n",
       "    </tr>\n",
       "  </thead>\n",
       "  <tbody>\n",
       "    <tr>\n",
       "      <th>0</th>\n",
       "      <td>l1</td>\n",
       "      <td>saga</td>\n",
       "      <td>0.7398893308</td>\n",
       "      <td>0.0026416632</td>\n",
       "      <td>0.7365539231</td>\n",
       "      <td>0.0168197751</td>\n",
       "    </tr>\n",
       "  </tbody>\n",
       "</table>\n",
       "</div>"
      ],
      "text/plain": [
       "  penalty solver  average train score  std of train score  average val score  \\\n",
       "0      l1   saga         0.7398893308        0.0026416632       0.7365539231   \n",
       "\n",
       "   std of val score  \n",
       "0      0.0168197751  "
      ]
     },
     "execution_count": 127,
     "metadata": {},
     "output_type": "execute_result"
    }
   ],
   "source": [
    "summary_df2"
   ]
  },
  {
   "cell_type": "code",
   "execution_count": 126,
   "metadata": {},
   "outputs": [
    {
     "name": "stderr",
     "output_type": "stream",
     "text": [
      "[Parallel(n_jobs=12)]: Using backend LokyBackend with 12 concurrent workers.\n",
      "[Parallel(n_jobs=12)]: Done  17 tasks      | elapsed:    6.9s\n"
     ]
    },
    {
     "name": "stdout",
     "output_type": "stream",
     "text": [
      "--- 20.125411987304688 seconds ---\n",
      "average score:  0.7365539231279878 std of score:  0.01681977513915903\n"
     ]
    },
    {
     "name": "stderr",
     "output_type": "stream",
     "text": [
      "[Parallel(n_jobs=12)]: Done 100 out of 100 | elapsed:   19.9s finished\n"
     ]
    }
   ],
   "source": [
    "start_time = time()\n",
    "\n",
    "rskf = RepeatedStratifiedKFold(n_splits=10, n_repeats=10,random_state=12345)\n",
    "cv_results = cross_validate(estimator=logit, X=X, y=y, scoring=\"balanced_accuracy\", cv=rskf, verbose=2,\n",
    "                                n_jobs=12, return_train_score=True, )\n",
    "\n",
    "print(\"--- %s seconds ---\" % (time() - start_time))     \n",
    "print(\"average score: \", cv_results['test_score'].mean(), \"std of score: \", cv_results['test_score'].std()) \n",
    "# insert to df\n",
    "new_row = {'penalty': logit.get_params()['penalty'], 'solver': logit.get_params()['solver'],\n",
    "                'average train score': cv_results['train_score'].mean(),\"std of train score\": cv_results['train_score'].std(),\n",
    "                'average val score': cv_results['test_score'].mean(),\"std of val score\": cv_results['test_score'].std()}\n",
    "summary_df2.loc[len(summary_df2)] = new_row      \n"
   ]
  },
  {
   "attachments": {},
   "cell_type": "markdown",
   "metadata": {},
   "source": [
    "Test another solver and penalty"
   ]
  },
  {
   "cell_type": "code",
   "execution_count": 95,
   "metadata": {},
   "outputs": [
    {
     "name": "stderr",
     "output_type": "stream",
     "text": [
      "[Parallel(n_jobs=12)]: Using backend LokyBackend with 12 concurrent workers.\n",
      "[Parallel(n_jobs=12)]: Done  17 tasks      | elapsed:    0.6s\n"
     ]
    },
    {
     "name": "stdout",
     "output_type": "stream",
     "text": [
      "--- 2.228346586227417 seconds ---\n",
      "average score:  0.7365480407750467 std of score:  0.016820266758700964\n"
     ]
    },
    {
     "name": "stderr",
     "output_type": "stream",
     "text": [
      "[Parallel(n_jobs=12)]: Done 100 out of 100 | elapsed:    2.0s finished\n"
     ]
    }
   ],
   "source": [
    "start_time = time()\n",
    "\n",
    "logit1 = LogisticRegression(penalty='l1',solver='liblinear',max_iter=1000,random_state=12345,verbose=1)\n",
    "cv_results = cv_rskf(logit1,n_splits=10,n_repeats=10,seed=12345)\n",
    "\n",
    "print(\"--- %s seconds ---\" % (time() - start_time))     \n",
    "print(\"average score: \", cv_results['test_score'].mean(), \"std of score: \", cv_results['test_score'].std()) \n",
    "\n",
    "# insert to df\n",
    "new_row = {'penalty': logit1.get_params()['penalty'], 'solver': logit1.get_params()['solver'], \n",
    "                'average score': cv_results['test_score'].mean(),\"std of score\": cv_results['test_score'].std()}\n",
    "summary_df.loc[len(summary_df)] = new_row   "
   ]
  },
  {
   "cell_type": "code",
   "execution_count": 96,
   "metadata": {},
   "outputs": [
    {
     "name": "stderr",
     "output_type": "stream",
     "text": [
      "[Parallel(n_jobs=12)]: Using backend LokyBackend with 12 concurrent workers.\n",
      "[Parallel(n_jobs=12)]: Done  17 tasks      | elapsed:    0.3s\n"
     ]
    },
    {
     "name": "stdout",
     "output_type": "stream",
     "text": [
      "--- 1.8189518451690674 seconds ---\n",
      "average score:  0.736549809535266 std of score:  0.01679068582016181\n"
     ]
    },
    {
     "name": "stderr",
     "output_type": "stream",
     "text": [
      "[Parallel(n_jobs=12)]: Done 100 out of 100 | elapsed:    1.6s finished\n"
     ]
    }
   ],
   "source": [
    "start_time = time()\n",
    "\n",
    "logit2 = LogisticRegression(penalty='l2',solver='liblinear',max_iter=1000,random_state=12345,verbose=1)\n",
    "cv_results = cv_rskf(logit2,n_splits=10,n_repeats=10,seed=12345)\n",
    "\n",
    "print(\"--- %s seconds ---\" % (time() - start_time))     \n",
    "print(\"average score: \", cv_results['test_score'].mean(), \"std of score: \", cv_results['test_score'].std()) \n",
    "# insert to df\n",
    "new_row = {'penalty': logit2.get_params()['penalty'], 'solver': logit2.get_params()['solver'], \n",
    "                'average score': cv_results['test_score'].mean(),\"std of score\": cv_results['test_score'].std()}\n",
    "summary_df.loc[len(summary_df)] = new_row   "
   ]
  },
  {
   "cell_type": "code",
   "execution_count": 97,
   "metadata": {},
   "outputs": [
    {
     "name": "stderr",
     "output_type": "stream",
     "text": [
      "[Parallel(n_jobs=12)]: Using backend LokyBackend with 12 concurrent workers.\n",
      "[Parallel(n_jobs=12)]: Done  17 tasks      | elapsed:    0.2s\n"
     ]
    },
    {
     "name": "stdout",
     "output_type": "stream",
     "text": [
      "--- 0.8427543640136719 seconds ---\n",
      "average score:  0.7366449282916985 std of score:  0.016845227273181097\n"
     ]
    },
    {
     "name": "stderr",
     "output_type": "stream",
     "text": [
      "[Parallel(n_jobs=12)]: Done 100 out of 100 | elapsed:    0.7s finished\n"
     ]
    }
   ],
   "source": [
    "start_time = time()\n",
    "\n",
    "logit3 = LogisticRegression(penalty=None,solver='newton-cholesky',max_iter=1000,random_state=12345,verbose=1)\n",
    "cv_results = cv_rskf(logit3,n_splits=10,n_repeats=10,seed=12345)\n",
    "\n",
    "print(\"--- %s seconds ---\" % (time() - start_time))     \n",
    "print(\"average score: \", cv_results['test_score'].mean(), \"std of score: \", cv_results['test_score'].std()) \n",
    "# insert to df\n",
    "new_row = {'penalty': logit3.get_params()['penalty'], 'solver': logit3.get_params()['solver'], \n",
    "                'average score': cv_results['test_score'].mean(),\"std of score\": cv_results['test_score'].std()}\n",
    "summary_df.loc[len(summary_df)] = new_row   "
   ]
  },
  {
   "cell_type": "code",
   "execution_count": 98,
   "metadata": {},
   "outputs": [
    {
     "name": "stderr",
     "output_type": "stream",
     "text": [
      "[Parallel(n_jobs=12)]: Using backend LokyBackend with 12 concurrent workers.\n",
      "[Parallel(n_jobs=12)]: Done  17 tasks      | elapsed:    0.1s\n"
     ]
    },
    {
     "name": "stdout",
     "output_type": "stream",
     "text": [
      "--- 0.9306094646453857 seconds ---\n",
      "average score:  0.7364076319553041 std of score:  0.016803309646989683\n"
     ]
    },
    {
     "name": "stderr",
     "output_type": "stream",
     "text": [
      "[Parallel(n_jobs=12)]: Done 100 out of 100 | elapsed:    0.7s finished\n"
     ]
    }
   ],
   "source": [
    "start_time = time()\n",
    "\n",
    "logit4 = LogisticRegression(penalty='l2',solver='newton-cholesky',max_iter=1000,random_state=12345,verbose=1)\n",
    "cv_results = cv_rskf(logit4,n_splits=10,n_repeats=10,seed=12345)\n",
    "\n",
    "print(\"--- %s seconds ---\" % (time() - start_time))     \n",
    "print(\"average score: \", cv_results['test_score'].mean(), \"std of score: \", cv_results['test_score'].std())\n",
    "# insert to df\n",
    "new_row = {'penalty': logit4.get_params()['penalty'], 'solver': logit4.get_params()['solver'], \n",
    "                'average score': cv_results['test_score'].mean(),\"std of score\": cv_results['test_score'].std()}\n",
    "summary_df.loc[len(summary_df)] = new_row   "
   ]
  },
  {
   "cell_type": "code",
   "execution_count": 99,
   "metadata": {},
   "outputs": [
    {
     "name": "stderr",
     "output_type": "stream",
     "text": [
      "[Parallel(n_jobs=12)]: Using backend LokyBackend with 12 concurrent workers.\n",
      "[Parallel(n_jobs=12)]: Done  17 tasks      | elapsed:    0.6s\n"
     ]
    },
    {
     "name": "stdout",
     "output_type": "stream",
     "text": [
      "--- 2.2714762687683105 seconds ---\n",
      "average score:  0.736438496152835 std of score:  0.016775969535535683\n"
     ]
    },
    {
     "name": "stderr",
     "output_type": "stream",
     "text": [
      "[Parallel(n_jobs=12)]: Done 100 out of 100 | elapsed:    2.2s finished\n"
     ]
    }
   ],
   "source": [
    "start_time = time()\n",
    "\n",
    "logit5 = LogisticRegression(penalty='l2',solver='saga',max_iter=1000,random_state=12345,verbose=1)\n",
    "cv_results = cv_rskf(logit5,n_splits=10,n_repeats=10,seed=12345)\n",
    "\n",
    "print(\"--- %s seconds ---\" % (time() - start_time))     \n",
    "print(\"average score: \", cv_results['test_score'].mean(), \"std of score: \", cv_results['test_score'].std()) \n",
    "# insert to df\n",
    "new_row = {'penalty': logit5.get_params()['penalty'], 'solver': logit5.get_params()['solver'], \n",
    "                'average score': cv_results['test_score'].mean(),\"std of score\": cv_results['test_score'].std()}\n",
    "summary_df.loc[len(summary_df)] = new_row   "
   ]
  },
  {
   "cell_type": "code",
   "execution_count": 100,
   "metadata": {},
   "outputs": [
    {
     "name": "stderr",
     "output_type": "stream",
     "text": [
      "[Parallel(n_jobs=12)]: Using backend LokyBackend with 12 concurrent workers.\n",
      "[Parallel(n_jobs=12)]: Done  17 tasks      | elapsed:    0.5s\n"
     ]
    },
    {
     "name": "stdout",
     "output_type": "stream",
     "text": [
      "--- 2.1578879356384277 seconds ---\n",
      "average score:  0.736438496152835 std of score:  0.016775969535535683\n"
     ]
    },
    {
     "name": "stderr",
     "output_type": "stream",
     "text": [
      "[Parallel(n_jobs=12)]: Done 100 out of 100 | elapsed:    1.9s finished\n"
     ]
    }
   ],
   "source": [
    "start_time = time()\n",
    "\n",
    "logit6 = LogisticRegression(penalty='elasticnet',solver='saga',max_iter=1000,random_state=12345,verbose=1)\n",
    "cv_results = cv_rskf(logit5,n_splits=10,n_repeats=10,seed=12345)\n",
    "\n",
    "print(\"--- %s seconds ---\" % (time() - start_time))     \n",
    "print(\"average score: \", cv_results['test_score'].mean(), \"std of score: \", cv_results['test_score'].std()) \n",
    "# insert to df\n",
    "new_row = {'penalty': logit6.get_params()['penalty'], 'solver': logit6.get_params()['solver'], \n",
    "                'average score': cv_results['test_score'].mean(),\"std of score\": cv_results['test_score'].std()}\n",
    "summary_df.loc[len(summary_df)] = new_row   "
   ]
  },
  {
   "cell_type": "code",
   "execution_count": 101,
   "metadata": {},
   "outputs": [
    {
     "name": "stderr",
     "output_type": "stream",
     "text": [
      "[Parallel(n_jobs=12)]: Using backend LokyBackend with 12 concurrent workers.\n",
      "[Parallel(n_jobs=12)]: Done  17 tasks      | elapsed:    0.4s\n"
     ]
    },
    {
     "name": "stdout",
     "output_type": "stream",
     "text": [
      "--- 2.0087006092071533 seconds ---\n",
      "average score:  0.736438496152835 std of score:  0.016775969535535683\n"
     ]
    },
    {
     "name": "stderr",
     "output_type": "stream",
     "text": [
      "[Parallel(n_jobs=12)]: Done 100 out of 100 | elapsed:    1.8s finished\n"
     ]
    }
   ],
   "source": [
    "start_time = time()\n",
    "\n",
    "logit7 = LogisticRegression(penalty=None,solver='saga',max_iter=1000,random_state=12345,verbose=1)\n",
    "cv_results = cv_rskf(logit5,n_splits=10,n_repeats=10,seed=12345)\n",
    "\n",
    "print(\"--- %s seconds ---\" % (time() - start_time))     \n",
    "print(\"average score: \", cv_results['test_score'].mean(), \"std of score: \", cv_results['test_score'].std()) \n",
    "# insert to df\n",
    "new_row = {'penalty': logit7.get_params()['penalty'], 'solver': logit7.get_params()['solver'], \n",
    "                'average score': cv_results['test_score'].mean(),\"std of score\": cv_results['test_score'].std()}\n",
    "summary_df.loc[len(summary_df)] = new_row   "
   ]
  },
  {
   "cell_type": "code",
   "execution_count": 109,
   "metadata": {},
   "outputs": [
    {
     "data": {
      "text/html": [
       "<div>\n",
       "<style scoped>\n",
       "    .dataframe tbody tr th:only-of-type {\n",
       "        vertical-align: middle;\n",
       "    }\n",
       "\n",
       "    .dataframe tbody tr th {\n",
       "        vertical-align: top;\n",
       "    }\n",
       "\n",
       "    .dataframe thead th {\n",
       "        text-align: right;\n",
       "    }\n",
       "</style>\n",
       "<table border=\"1\" class=\"dataframe\">\n",
       "  <thead>\n",
       "    <tr style=\"text-align: right;\">\n",
       "      <th></th>\n",
       "      <th>penalty</th>\n",
       "      <th>solver</th>\n",
       "      <th>average score</th>\n",
       "      <th>std of score</th>\n",
       "    </tr>\n",
       "  </thead>\n",
       "  <tbody>\n",
       "    <tr>\n",
       "      <th>3</th>\n",
       "      <td>None</td>\n",
       "      <td>newton-cholesky</td>\n",
       "      <td>0.7366449283</td>\n",
       "      <td>0.0168452273</td>\n",
       "    </tr>\n",
       "    <tr>\n",
       "      <th>0</th>\n",
       "      <td>l1</td>\n",
       "      <td>saga</td>\n",
       "      <td>0.7365539231</td>\n",
       "      <td>0.0168197751</td>\n",
       "    </tr>\n",
       "    <tr>\n",
       "      <th>2</th>\n",
       "      <td>l2</td>\n",
       "      <td>liblinear</td>\n",
       "      <td>0.7365498095</td>\n",
       "      <td>0.0167906858</td>\n",
       "    </tr>\n",
       "    <tr>\n",
       "      <th>1</th>\n",
       "      <td>l1</td>\n",
       "      <td>liblinear</td>\n",
       "      <td>0.7365480408</td>\n",
       "      <td>0.0168202668</td>\n",
       "    </tr>\n",
       "    <tr>\n",
       "      <th>5</th>\n",
       "      <td>l2</td>\n",
       "      <td>saga</td>\n",
       "      <td>0.7364384962</td>\n",
       "      <td>0.0167759695</td>\n",
       "    </tr>\n",
       "    <tr>\n",
       "      <th>6</th>\n",
       "      <td>elasticnet</td>\n",
       "      <td>saga</td>\n",
       "      <td>0.7364384962</td>\n",
       "      <td>0.0167759695</td>\n",
       "    </tr>\n",
       "    <tr>\n",
       "      <th>7</th>\n",
       "      <td>None</td>\n",
       "      <td>saga</td>\n",
       "      <td>0.7364384962</td>\n",
       "      <td>0.0167759695</td>\n",
       "    </tr>\n",
       "    <tr>\n",
       "      <th>4</th>\n",
       "      <td>l2</td>\n",
       "      <td>newton-cholesky</td>\n",
       "      <td>0.7364076320</td>\n",
       "      <td>0.0168033096</td>\n",
       "    </tr>\n",
       "  </tbody>\n",
       "</table>\n",
       "</div>"
      ],
      "text/plain": [
       "      penalty           solver  average score  std of score\n",
       "3        None  newton-cholesky   0.7366449283  0.0168452273\n",
       "0          l1             saga   0.7365539231  0.0168197751\n",
       "2          l2        liblinear   0.7365498095  0.0167906858\n",
       "1          l1        liblinear   0.7365480408  0.0168202668\n",
       "5          l2             saga   0.7364384962  0.0167759695\n",
       "6  elasticnet             saga   0.7364384962  0.0167759695\n",
       "7        None             saga   0.7364384962  0.0167759695\n",
       "4          l2  newton-cholesky   0.7364076320  0.0168033096"
      ]
     },
     "execution_count": 109,
     "metadata": {},
     "output_type": "execute_result"
    }
   ],
   "source": [
    "pd.set_option(\"display.precision\", 10)\n",
    "summary_df.sort_values(ascending=False,by=\"average score\")"
   ]
  },
  {
   "cell_type": "code",
   "execution_count": 119,
   "metadata": {},
   "outputs": [],
   "source": [
    "summary_df.sort_values(ascending=False,by=\"average score\").to_csv('./results/logit_metrics.csv', index=False,sep=';')"
   ]
  }
 ],
 "metadata": {
  "kernelspec": {
   "display_name": "Python 3",
   "language": "python",
   "name": "python3"
  },
  "language_info": {
   "codemirror_mode": {
    "name": "ipython",
    "version": 3
   },
   "file_extension": ".py",
   "mimetype": "text/x-python",
   "name": "python",
   "nbconvert_exporter": "python",
   "pygments_lexer": "ipython3",
   "version": "3.10.11"
  },
  "orig_nbformat": 4
 },
 "nbformat": 4,
 "nbformat_minor": 2
}
