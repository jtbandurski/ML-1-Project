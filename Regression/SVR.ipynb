{
 "cells": [
  {
   "attachments": {},
   "cell_type": "markdown",
   "metadata": {},
   "source": [
    "# Support Vector Regression"
   ]
  },
  {
   "cell_type": "code",
   "execution_count": 13,
   "metadata": {},
   "outputs": [],
   "source": [
    "import pandas as pd\n",
    "import numpy as np\n",
    "from sklearn.model_selection import KFold, cross_validate, GridSearchCV\n",
    "from sklearn.svm import LinearSVR\n",
    "from sklearn.metrics import mean_absolute_percentage_error\n",
    "from time import time"
   ]
  },
  {
   "attachments": {},
   "cell_type": "markdown",
   "metadata": {},
   "source": [
    "## Data"
   ]
  },
  {
   "cell_type": "code",
   "execution_count": 6,
   "metadata": {},
   "outputs": [
    {
     "name": "stdout",
     "output_type": "stream",
     "text": [
      "(2398116, 17) (2398116,) (599561, 17)\n"
     ]
    }
   ],
   "source": [
    "# newborn_train = pd.read_csv('../data/preprocessed/newborntrain_processed.csv', sep=\";\")\n",
    "newborn_test = pd.read_csv('../data/preprocessed/newborntest_processed.csv', sep=\";\")\n",
    "X_train = newborn_train.drop(\"newborn_weight\",axis=1)\n",
    "y_train = newborn_train['newborn_weight']\n",
    "X_test = newborn_test\n",
    "print(X_train.shape, y_train.shape, X_test.shape)"
   ]
  },
  {
   "attachments": {},
   "cell_type": "markdown",
   "metadata": {},
   "source": [
    "## Grid search"
   ]
  },
  {
   "attachments": {},
   "cell_type": "markdown",
   "metadata": {},
   "source": [
    "Using KFold Cross Validation with k=5"
   ]
  },
  {
   "cell_type": "code",
   "execution_count": 7,
   "metadata": {},
   "outputs": [],
   "source": [
    "# Grid search results to df\n",
    "def gs_to_df(grid_search):\n",
    "    df = pd.DataFrame()\n",
    "    for param in param_grid.keys():\n",
    "        df[param] = 0\n",
    "    df[\"mean_train_score\"] = df[\"std_train_score\"] = df[\"mean_test_score\"] = df[\"std_test_score\"] = 0\n",
    "    for i, params in enumerate(grid_search.cv_results_['params']):\n",
    "        new_row = params | {\"mean_train_score\": grid_search.cv_results_['mean_train_score'][i],\n",
    "                            \"std_train_score\": grid_search.cv_results_['std_train_score'][i],\n",
    "                            \"mean_test_score\": grid_search.cv_results_['mean_test_score'][i],\n",
    "                            \"std_test_score\": grid_search.cv_results_['std_test_score'][i]}\n",
    "        df.loc[len(df)] = new_row\n",
    "\n",
    "    return df\n",
    "    "
   ]
  },
  {
   "cell_type": "code",
   "execution_count": 14,
   "metadata": {},
   "outputs": [
    {
     "name": "stdout",
     "output_type": "stream",
     "text": [
      "Fitting 5 folds for each of 1 candidates, totalling 5 fits\n"
     ]
    }
   ],
   "source": [
    "start_time = time()\n",
    "# Grid \n",
    "param_grid = {'C': [1], 'epsilon': [0], 'loss': ['epsilon_insensitive'], 'dual':[True], 'random_state': [12345]}\n",
    "# Cross Validation\n",
    "rskf = KFold(n_splits=5, shuffle=True, random_state=12345)\n",
    "# Grid Search\n",
    "grid_search = GridSearchCV(estimator=LinearSVR(), param_grid=param_grid, scoring=\"neg_mean_absolute_percentage_error\", \n",
    "                            n_jobs=12, cv=rskf, verbose=3, return_train_score=True)\n",
    "grid_search.fit(X_train,y_train)\n",
    "print(\"--- %s seconds ---\" % (time() - start_time))"
   ]
  },
  {
   "cell_type": "code",
   "execution_count": null,
   "metadata": {},
   "outputs": [],
   "source": [
    "df = gs_to_df(grid_search=grid_search)\n",
    "df.sort_values(ascending=False,by=\"mean_test_score\").to_csv(\"../data/Regression/Validation/SVR0_5cv.csv\", index=False,sep=';')\n",
    "df.sort_values(ascending=False,by=\"mean_test_score\")"
   ]
  }
 ],
 "metadata": {
  "kernelspec": {
   "display_name": ".venv",
   "language": "python",
   "name": "python3"
  },
  "language_info": {
   "codemirror_mode": {
    "name": "ipython",
    "version": 3
   },
   "file_extension": ".py",
   "mimetype": "text/x-python",
   "name": "python",
   "nbconvert_exporter": "python",
   "pygments_lexer": "ipython3",
   "version": "3.10.11"
  },
  "orig_nbformat": 4
 },
 "nbformat": 4,
 "nbformat_minor": 2
}
