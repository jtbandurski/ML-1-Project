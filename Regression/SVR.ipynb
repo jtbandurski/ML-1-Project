{
 "cells": [
  {
   "attachments": {},
   "cell_type": "markdown",
   "metadata": {},
   "source": [
    "# Support Vector Regression"
   ]
  },
  {
   "cell_type": "code",
   "execution_count": 13,
   "metadata": {},
   "outputs": [],
   "source": [
    "import pandas as pd\n",
    "import numpy as np\n",
    "from sklearn.model_selection import KFold, cross_validate, GridSearchCV\n",
    "from sklearn.svm import LinearSVR\n",
    "from sklearn.metrics import mean_absolute_percentage_error\n",
    "from time import time"
   ]
  },
  {
   "attachments": {},
   "cell_type": "markdown",
   "metadata": {},
   "source": [
    "## Data"
   ]
  },
  {
   "cell_type": "code",
   "execution_count": 6,
   "metadata": {},
   "outputs": [
    {
     "name": "stdout",
     "output_type": "stream",
     "text": [
      "(2398116, 17) (2398116,) (599561, 17)\n"
     ]
    }
   ],
   "source": [
    "# newborn_train = pd.read_csv('../data/preprocessed/newborntrain_processed.csv', sep=\";\")\n",
    "newborn_test = pd.read_csv('../data/preprocessed/newborntest_processed.csv', sep=\";\")\n",
    "X_train = newborn_train.drop(\"newborn_weight\",axis=1)\n",
    "y_train = newborn_train['newborn_weight']\n",
    "X_test = newborn_test\n",
    "print(X_train.shape, y_train.shape, X_test.shape)"
   ]
  },
  {
   "attachments": {},
   "cell_type": "markdown",
   "metadata": {},
   "source": [
    "## Grid search"
   ]
  },
  {
   "attachments": {},
   "cell_type": "markdown",
   "metadata": {},
   "source": [
    "Using KFold Cross Validation with k=5"
   ]
  },
  {
   "cell_type": "code",
   "execution_count": 7,
   "metadata": {},
   "outputs": [],
   "source": [
    "# Grid search results to df\n",
    "def gs_to_df(grid_search):\n",
    "    df = pd.DataFrame()\n",
    "    for param in param_grid.keys():\n",
    "        df[param] = 0\n",
    "    df[\"mean_train_score\"] = df[\"std_train_score\"] = df[\"mean_test_score\"] = df[\"std_test_score\"] = 0\n",
    "    for i, params in enumerate(grid_search.cv_results_['params']):\n",
    "        new_row = params | {\"mean_train_score\": grid_search.cv_results_['mean_train_score'][i],\n",
    "                            \"std_train_score\": grid_search.cv_results_['std_train_score'][i],\n",
    "                            \"mean_test_score\": grid_search.cv_results_['mean_test_score'][i],\n",
    "                            \"std_test_score\": grid_search.cv_results_['std_test_score'][i]}\n",
    "        df.loc[len(df)] = new_row\n",
    "\n",
    "    return df\n",
    "    "
   ]
  },
  {
   "cell_type": "code",
   "execution_count": 14,
   "metadata": {},
   "outputs": [
    {
     "name": "stdout",
     "output_type": "stream",
     "text": [
      "Fitting 5 folds for each of 1 candidates, totalling 5 fits\n",
      "--- 1823.81276345253 seconds ---\n"
     ]
    },
    {
     "name": "stderr",
     "output_type": "stream",
     "text": [
      "c:\\Users\\jakub\\OneDrive\\DSBA_OneDrive\\ML1\\ML-1-Project\\.venv\\lib\\site-packages\\sklearn\\svm\\_base.py:1244: ConvergenceWarning: Liblinear failed to converge, increase the number of iterations.\n",
      "  warnings.warn(\n"
     ]
    }
   ],
   "source": [
    "start_time = time()\n",
    "# Grid \n",
    "param_grid = {'C': [1], 'epsilon': [0], 'loss': ['epsilon_insensitive'], 'dual':[True], 'max_iter':[2000], 'random_state': [12345]}\n",
    "# Cross Validation\n",
    "rskf = KFold(n_splits=5, shuffle=True, random_state=12345)\n",
    "# Grid Search\n",
    "grid_search = GridSearchCV(estimator=LinearSVR(), param_grid=param_grid, scoring=\"neg_mean_absolute_percentage_error\", \n",
    "                            n_jobs=12, cv=rskf, verbose=3, return_train_score=True)\n",
    "grid_search.fit(X_train,y_train)\n",
    "print(\"--- %s seconds ---\" % (time() - start_time))"
   ]
  },
  {
   "cell_type": "code",
   "execution_count": 17,
   "metadata": {},
   "outputs": [
    {
     "data": {
      "text/html": [
       "<div>\n",
       "<style scoped>\n",
       "    .dataframe tbody tr th:only-of-type {\n",
       "        vertical-align: middle;\n",
       "    }\n",
       "\n",
       "    .dataframe tbody tr th {\n",
       "        vertical-align: top;\n",
       "    }\n",
       "\n",
       "    .dataframe thead th {\n",
       "        text-align: right;\n",
       "    }\n",
       "</style>\n",
       "<table border=\"1\" class=\"dataframe\">\n",
       "  <thead>\n",
       "    <tr style=\"text-align: right;\">\n",
       "      <th></th>\n",
       "      <th>C</th>\n",
       "      <th>epsilon</th>\n",
       "      <th>loss</th>\n",
       "      <th>dual</th>\n",
       "      <th>random_state</th>\n",
       "      <th>mean_train_score</th>\n",
       "      <th>std_train_score</th>\n",
       "      <th>mean_test_score</th>\n",
       "      <th>std_test_score</th>\n",
       "    </tr>\n",
       "  </thead>\n",
       "  <tbody>\n",
       "    <tr>\n",
       "      <th>0</th>\n",
       "      <td>1</td>\n",
       "      <td>0</td>\n",
       "      <td>epsilon_insensitive</td>\n",
       "      <td>True</td>\n",
       "      <td>12345</td>\n",
       "      <td>-0.189859</td>\n",
       "      <td>0.035673</td>\n",
       "      <td>-0.189889</td>\n",
       "      <td>0.035644</td>\n",
       "    </tr>\n",
       "  </tbody>\n",
       "</table>\n",
       "</div>"
      ],
      "text/plain": [
       "   C  epsilon                 loss  dual  random_state  mean_train_score   \n",
       "0  1        0  epsilon_insensitive  True         12345         -0.189859  \\\n",
       "\n",
       "   std_train_score  mean_test_score  std_test_score  \n",
       "0         0.035673        -0.189889        0.035644  "
      ]
     },
     "execution_count": 17,
     "metadata": {},
     "output_type": "execute_result"
    }
   ],
   "source": [
    "df = gs_to_df(grid_search=grid_search)\n",
    "df.sort_values(ascending=False,by=\"mean_test_score\").to_csv(\"../Regression/Validation/SVR0_5cv.csv\", index=False,sep=';')\n",
    "df.sort_values(ascending=False,by=\"mean_test_score\")"
   ]
  },
  {
   "cell_type": "code",
   "execution_count": 18,
   "metadata": {},
   "outputs": [
    {
     "name": "stdout",
     "output_type": "stream",
     "text": [
      "Fitting 5 folds for each of 1 candidates, totalling 5 fits\n",
      "--- 1801.6556894779205 seconds ---\n"
     ]
    },
    {
     "name": "stderr",
     "output_type": "stream",
     "text": [
      "c:\\Users\\jakub\\OneDrive\\DSBA_OneDrive\\ML1\\ML-1-Project\\.venv\\lib\\site-packages\\sklearn\\svm\\_base.py:1244: ConvergenceWarning: Liblinear failed to converge, increase the number of iterations.\n",
      "  warnings.warn(\n"
     ]
    }
   ],
   "source": [
    "start_time = time()\n",
    "# Grid \n",
    "param_grid = {'C': [1], 'epsilon': [0.01], 'loss': ['epsilon_insensitive'], 'dual':[True], 'random_state': [12345]}\n",
    "# Cross Validation\n",
    "rskf = KFold(n_splits=5, shuffle=True, random_state=12345)\n",
    "# Grid Search\n",
    "grid_search = GridSearchCV(estimator=LinearSVR(), param_grid=param_grid, scoring=\"neg_mean_absolute_percentage_error\", \n",
    "                            n_jobs=12, cv=rskf, verbose=3, return_train_score=True)\n",
    "grid_search.fit(X_train,y_train)\n",
    "print(\"--- %s seconds ---\" % (time() - start_time))"
   ]
  },
  {
   "cell_type": "code",
   "execution_count": 19,
   "metadata": {},
   "outputs": [
    {
     "data": {
      "text/html": [
       "<div>\n",
       "<style scoped>\n",
       "    .dataframe tbody tr th:only-of-type {\n",
       "        vertical-align: middle;\n",
       "    }\n",
       "\n",
       "    .dataframe tbody tr th {\n",
       "        vertical-align: top;\n",
       "    }\n",
       "\n",
       "    .dataframe thead th {\n",
       "        text-align: right;\n",
       "    }\n",
       "</style>\n",
       "<table border=\"1\" class=\"dataframe\">\n",
       "  <thead>\n",
       "    <tr style=\"text-align: right;\">\n",
       "      <th></th>\n",
       "      <th>C</th>\n",
       "      <th>epsilon</th>\n",
       "      <th>loss</th>\n",
       "      <th>dual</th>\n",
       "      <th>random_state</th>\n",
       "      <th>mean_train_score</th>\n",
       "      <th>std_train_score</th>\n",
       "      <th>mean_test_score</th>\n",
       "      <th>std_test_score</th>\n",
       "    </tr>\n",
       "  </thead>\n",
       "  <tbody>\n",
       "    <tr>\n",
       "      <th>0</th>\n",
       "      <td>1</td>\n",
       "      <td>0.01</td>\n",
       "      <td>epsilon_insensitive</td>\n",
       "      <td>True</td>\n",
       "      <td>12345</td>\n",
       "      <td>-0.189858</td>\n",
       "      <td>0.035672</td>\n",
       "      <td>-0.189888</td>\n",
       "      <td>0.035643</td>\n",
       "    </tr>\n",
       "  </tbody>\n",
       "</table>\n",
       "</div>"
      ],
      "text/plain": [
       "   C  epsilon                 loss  dual  random_state  mean_train_score   \n",
       "0  1     0.01  epsilon_insensitive  True         12345         -0.189858  \\\n",
       "\n",
       "   std_train_score  mean_test_score  std_test_score  \n",
       "0         0.035672        -0.189888        0.035643  "
      ]
     },
     "execution_count": 19,
     "metadata": {},
     "output_type": "execute_result"
    }
   ],
   "source": [
    "df = gs_to_df(grid_search=grid_search)\n",
    "df.sort_values(ascending=False,by=\"mean_test_score\").to_csv(\"../Regression/Validation/SVR1_5cv.csv\", index=False,sep=';')\n",
    "df.sort_values(ascending=False,by=\"mean_test_score\")"
   ]
  }
 ],
 "metadata": {
  "kernelspec": {
   "display_name": ".venv",
   "language": "python",
   "name": "python3"
  },
  "language_info": {
   "codemirror_mode": {
    "name": "ipython",
    "version": 3
   },
   "file_extension": ".py",
   "mimetype": "text/x-python",
   "name": "python",
   "nbconvert_exporter": "python",
   "pygments_lexer": "ipython3",
   "version": "3.10.11"
  },
  "orig_nbformat": 4
 },
 "nbformat": 4,
 "nbformat_minor": 2
}
