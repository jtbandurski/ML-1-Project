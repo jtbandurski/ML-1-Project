{
 "cells": [
  {
   "cell_type": "code",
   "execution_count": 2,
   "id": "30a06e18",
   "metadata": {},
   "outputs": [],
   "source": [
    "import pandas as pd\n",
    "import numpy as np\n",
    "from sklearn.model_selection import train_test_split, RepeatedKFold, cross_validate, GridSearchCV\n",
    "from sklearn.metrics import make_scorer, mean_absolute_percentage_error\n",
    "from sklearn.linear_model import LinearRegression\n",
    "from sklearn.model_selection import train_test_split\n",
    "from time import time"
   ]
  },
  {
   "cell_type": "code",
   "execution_count": 3,
   "id": "930e41b0",
   "metadata": {},
   "outputs": [
    {
     "name": "stdout",
     "output_type": "stream",
     "text": [
      "(2398116, 17)\n",
      "(2398116,)\n",
      "(2398116, 18)\n"
     ]
    }
   ],
   "source": [
    "# Loading the data\n",
    "\n",
    "df = pd.read_csv('../data/preprocessed/newborntrain_processed.csv', sep=\";\")\n",
    "#print(df.head())\n",
    "\n",
    "# Removing the target variable from the feature\n",
    "\n",
    "X = df.drop(\"newborn_weight\", axis=1)\n",
    "Y = df[\"newborn_weight\"]\n",
    "print(X.shape)\n",
    "print(Y.shape)\n",
    "print(df.shape)"
   ]
  },
  {
   "cell_type": "code",
   "execution_count": 4,
   "id": "76087441",
   "metadata": {},
   "outputs": [
    {
     "name": "stdout",
     "output_type": "stream",
     "text": [
      "MAPE: 16.334670509013254\n",
      "___________________________________________________\n",
      "Predictions: [2914.66001744 3287.80322058 3269.25002464 ... 3338.7281342  3424.42564003\n",
      " 3107.3356979 ]\n",
      "Test Labels: 1031901    3260\n",
      "741167     2570\n",
      "296333     3035\n",
      "2259380    2650\n",
      "2311228    3212\n",
      "           ... \n",
      "695416     4065\n",
      "947094     2380\n",
      "248881     2977\n",
      "493071     3588\n",
      "1370920    2758\n",
      "Name: newborn_weight, Length: 479624, dtype: int64\n"
     ]
    }
   ],
   "source": [
    "\n",
    "X_train, X_test, Y_train, Y_test = train_test_split(X, Y, test_size=0.2, random_state=12345)\n",
    "\n",
    "\n",
    "model = LinearRegression()\n",
    "\n",
    "#Fitting the model to training Data\n",
    "\n",
    "model.fit(X_train, Y_train)\n",
    "\n",
    "Y_pred = model.predict(X_test)\n",
    "\n",
    "# Calculate MAPE\n",
    "def MAPE(actual, predicted):\n",
    "    return np.mean(np.abs((actual - predicted) / actual)) * 100\n",
    "\n",
    "# Calculate MAPE for the predictions\n",
    "mape = MAPE(Y_test, Y_pred)\n",
    "\n",
    "# Print MAPE\n",
    "print(\"MAPE:\", mape)\n",
    "print(\"___________________________________________________\")\n",
    "print(\"Predictions:\", Y_pred)\n",
    "print(\"Test Labels:\", Y_test)"
   ]
  },
  {
   "cell_type": "markdown",
   "id": "8b4524e5",
   "metadata": {},
   "source": [
    "## GridSearch"
   ]
  },
  {
   "cell_type": "code",
   "execution_count": 5,
   "id": "31ea4c7a",
   "metadata": {},
   "outputs": [],
   "source": [
    "# Grid search results to df\n",
    "def gs_to_df(grid_search):\n",
    "    df = pd.DataFrame()\n",
    "    for param in param_grid[0].keys():\n",
    "        df[param] = 0\n",
    "    df[\"mean_train_score\"] = df[\"std_train_score\"] = df[\"mean_test_score\"] = df[\"std_test_score\"] = 0\n",
    "    for i in range(len(grid_search.cv_results_['params'])):\n",
    "        new_row = grid_search.cv_results_['params'][i] | {\"mean_train_score\": grid_search.cv_results_['mean_train_score'][i],\n",
    "                                                            \"std_train_score\": grid_search.cv_results_['std_train_score'][i],\n",
    "                                                            \"mean_test_score\": grid_search.cv_results_['mean_test_score'][i],\n",
    "                                                            \"std_test_score\": grid_search.cv_results_['std_test_score'][i]}\n",
    "        df.loc[len(df)] = new_row\n",
    "\n",
    "    return df"
   ]
  },
  {
   "cell_type": "code",
   "execution_count": 8,
   "id": "b2adab98",
   "metadata": {},
   "outputs": [
    {
     "data": {
      "text/plain": [
       "({'copy_X': True, 'fit_intercept': True, 'normalize': True},\n",
       " array([0.0005991 , 0.00059872, 0.00059872, 0.00059872, 0.0005991 ,\n",
       "        0.00059872, 0.00059872, 0.00059872]))"
      ]
     },
     "execution_count": 8,
     "metadata": {},
     "output_type": "execute_result"
    }
   ],
   "source": [
    "grid_search.cv_results_['params'][0],grid_search.cv_results_['std_test_score']"
   ]
  },
  {
   "cell_type": "code",
   "execution_count": 7,
   "id": "5b2e8c63",
   "metadata": {},
   "outputs": [
    {
     "name": "stderr",
     "output_type": "stream",
     "text": [
      "C:\\Users\\mraer\\anaconda3\\lib\\site-packages\\sklearn\\linear_model\\_base.py:148: FutureWarning: 'normalize' was deprecated in version 1.0 and will be removed in 1.2. Please leave the normalize parameter to its default value to silence this warning. The default behavior of this estimator is to not do any normalization. If normalization is needed please use sklearn.preprocessing.StandardScaler instead.\n",
      "  warnings.warn(\n"
     ]
    },
    {
     "name": "stdout",
     "output_type": "stream",
     "text": [
      "--- 321.79034399986267 seconds ---\n"
     ]
    }
   ],
   "source": [
    "start_time = time()\n",
    "# Grid \n",
    "param_grid = [{\n",
    "    'fit_intercept': [True, False],\n",
    "    'normalize': [True, False],\n",
    "    'copy_X': [True, False]\n",
    "}]\n",
    "# Cross Validation\n",
    "rkf = RepeatedKFold(n_splits=5, n_repeats=2, random_state=12345)\n",
    "# Grid Search\n",
    "grid_search = GridSearchCV(estimator=model, param_grid=param_grid, scoring=\"neg_mean_absolute_percentage_error\", \n",
    "                            n_jobs=-1, cv=rkf, return_train_score=True)\n",
    "grid_search.fit(X,Y)\n",
    "print(\"--- %s seconds ---\" % (time() - start_time))"
   ]
  },
  {
   "cell_type": "code",
   "execution_count": 10,
   "id": "76e7fa28",
   "metadata": {},
   "outputs": [
    {
     "data": {
      "text/html": [
       "<div>\n",
       "<style scoped>\n",
       "    .dataframe tbody tr th:only-of-type {\n",
       "        vertical-align: middle;\n",
       "    }\n",
       "\n",
       "    .dataframe tbody tr th {\n",
       "        vertical-align: top;\n",
       "    }\n",
       "\n",
       "    .dataframe thead th {\n",
       "        text-align: right;\n",
       "    }\n",
       "</style>\n",
       "<table border=\"1\" class=\"dataframe\">\n",
       "  <thead>\n",
       "    <tr style=\"text-align: right;\">\n",
       "      <th></th>\n",
       "      <th>fit_intercept</th>\n",
       "      <th>normalize</th>\n",
       "      <th>copy_X</th>\n",
       "      <th>mean_train_score</th>\n",
       "      <th>std_train_score</th>\n",
       "      <th>mean_test_score</th>\n",
       "      <th>std_test_score</th>\n",
       "    </tr>\n",
       "  </thead>\n",
       "  <tbody>\n",
       "    <tr>\n",
       "      <th>1</th>\n",
       "      <td>True</td>\n",
       "      <td>False</td>\n",
       "      <td>True</td>\n",
       "      <td>-0.16312</td>\n",
       "      <td>0.000148</td>\n",
       "      <td>-0.163121</td>\n",
       "      <td>0.000599</td>\n",
       "    </tr>\n",
       "    <tr>\n",
       "      <th>2</th>\n",
       "      <td>False</td>\n",
       "      <td>True</td>\n",
       "      <td>True</td>\n",
       "      <td>-0.16312</td>\n",
       "      <td>0.000148</td>\n",
       "      <td>-0.163121</td>\n",
       "      <td>0.000599</td>\n",
       "    </tr>\n",
       "    <tr>\n",
       "      <th>3</th>\n",
       "      <td>False</td>\n",
       "      <td>False</td>\n",
       "      <td>True</td>\n",
       "      <td>-0.16312</td>\n",
       "      <td>0.000148</td>\n",
       "      <td>-0.163121</td>\n",
       "      <td>0.000599</td>\n",
       "    </tr>\n",
       "    <tr>\n",
       "      <th>5</th>\n",
       "      <td>True</td>\n",
       "      <td>False</td>\n",
       "      <td>False</td>\n",
       "      <td>-0.16312</td>\n",
       "      <td>0.000148</td>\n",
       "      <td>-0.163121</td>\n",
       "      <td>0.000599</td>\n",
       "    </tr>\n",
       "    <tr>\n",
       "      <th>6</th>\n",
       "      <td>False</td>\n",
       "      <td>True</td>\n",
       "      <td>False</td>\n",
       "      <td>-0.16312</td>\n",
       "      <td>0.000148</td>\n",
       "      <td>-0.163121</td>\n",
       "      <td>0.000599</td>\n",
       "    </tr>\n",
       "    <tr>\n",
       "      <th>7</th>\n",
       "      <td>False</td>\n",
       "      <td>False</td>\n",
       "      <td>False</td>\n",
       "      <td>-0.16312</td>\n",
       "      <td>0.000148</td>\n",
       "      <td>-0.163121</td>\n",
       "      <td>0.000599</td>\n",
       "    </tr>\n",
       "    <tr>\n",
       "      <th>0</th>\n",
       "      <td>True</td>\n",
       "      <td>True</td>\n",
       "      <td>True</td>\n",
       "      <td>-0.16312</td>\n",
       "      <td>0.000148</td>\n",
       "      <td>-0.163121</td>\n",
       "      <td>0.000599</td>\n",
       "    </tr>\n",
       "    <tr>\n",
       "      <th>4</th>\n",
       "      <td>True</td>\n",
       "      <td>True</td>\n",
       "      <td>False</td>\n",
       "      <td>-0.16312</td>\n",
       "      <td>0.000148</td>\n",
       "      <td>-0.163121</td>\n",
       "      <td>0.000599</td>\n",
       "    </tr>\n",
       "  </tbody>\n",
       "</table>\n",
       "</div>"
      ],
      "text/plain": [
       "   fit_intercept  normalize  copy_X  mean_train_score  std_train_score  \\\n",
       "1           True      False    True          -0.16312         0.000148   \n",
       "2          False       True    True          -0.16312         0.000148   \n",
       "3          False      False    True          -0.16312         0.000148   \n",
       "5           True      False   False          -0.16312         0.000148   \n",
       "6          False       True   False          -0.16312         0.000148   \n",
       "7          False      False   False          -0.16312         0.000148   \n",
       "0           True       True    True          -0.16312         0.000148   \n",
       "4           True       True   False          -0.16312         0.000148   \n",
       "\n",
       "   mean_test_score  std_test_score  \n",
       "1        -0.163121        0.000599  \n",
       "2        -0.163121        0.000599  \n",
       "3        -0.163121        0.000599  \n",
       "5        -0.163121        0.000599  \n",
       "6        -0.163121        0.000599  \n",
       "7        -0.163121        0.000599  \n",
       "0        -0.163121        0.000599  \n",
       "4        -0.163121        0.000599  "
      ]
     },
     "execution_count": 10,
     "metadata": {},
     "output_type": "execute_result"
    }
   ],
   "source": [
    "df = gs_to_df(grid_search=grid_search)\n",
    "df.sort_values(ascending=False,by=\"mean_test_score\").to_csv('./Validation/LR_metrics_2_5_cv.csv', index=False,sep=';')\n",
    "df.sort_values(ascending=False,by=\"mean_test_score\")"
   ]
  },
  {
   "cell_type": "markdown",
   "id": "6b7be5f6",
   "metadata": {},
   "source": [
    "1. To check over fitting, the standard deviation of scores between the training and test sets must be very low. \n",
    "2. Main focus is too low error on train and higher error on test provides overfitting.\n",
    "\n",
    "In this case, mean_train and test_score are same, and then std is very small in train than test. Thus splits are having same error percentage as original"
   ]
  }
 ],
 "metadata": {
  "kernelspec": {
   "display_name": "Python 3 (ipykernel)",
   "language": "python",
   "name": "python3"
  },
  "language_info": {
   "codemirror_mode": {
    "name": "ipython",
    "version": 3
   },
   "file_extension": ".py",
   "mimetype": "text/x-python",
   "name": "python",
   "nbconvert_exporter": "python",
   "pygments_lexer": "ipython3",
   "version": "3.9.13"
  }
 },
 "nbformat": 4,
 "nbformat_minor": 5
}
