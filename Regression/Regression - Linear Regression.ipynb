{
 "cells": [
  {
   "cell_type": "code",
   "execution_count": 43,
   "id": "30a06e18",
   "metadata": {},
   "outputs": [],
   "source": [
    "import pandas as pd\n",
    "import numpy as np\n",
    "\n",
    "from sklearn.linear_model import LinearRegression\n",
    "from sklearn.model_selection import train_test_split\n",
    "from sklearn.metrics import mean_squared_error"
   ]
  },
  {
   "cell_type": "code",
   "execution_count": 44,
   "id": "930e41b0",
   "metadata": {},
   "outputs": [
    {
     "name": "stdout",
     "output_type": "stream",
     "text": [
      "(2398116, 17)\n",
      "(2398116,)\n",
      "(2398116, 18)\n"
     ]
    }
   ],
   "source": [
    "# Loading the data\n",
    "\n",
    "df = pd.read_csv('../data/preprocessed/newborntrain_processed.csv', sep=\";\")\n",
    "#print(df.head())\n",
    "\n",
    "# Removing the target variable from the feature\n",
    "\n",
    "X = df.drop(\"newborn_weight\", axis=1)\n",
    "Y = df[\"newborn_weight\"]\n",
    "print(X.shape)\n",
    "print(Y.shape)\n",
    "print(df.shape)"
   ]
  },
  {
   "cell_type": "code",
   "execution_count": 45,
   "id": "76087441",
   "metadata": {},
   "outputs": [
    {
     "name": "stdout",
     "output_type": "stream",
     "text": [
      "MAPE: 16.334670509013254\n",
      "___________________________________________________\n",
      "Predictions: [2914.66001744 3287.80322058 3269.25002464 ... 3338.7281342  3424.42564003\n",
      " 3107.3356979 ]\n",
      "Test Labels: 1031901    3260\n",
      "741167     2570\n",
      "296333     3035\n",
      "2259380    2650\n",
      "2311228    3212\n",
      "           ... \n",
      "695416     4065\n",
      "947094     2380\n",
      "248881     2977\n",
      "493071     3588\n",
      "1370920    2758\n",
      "Name: newborn_weight, Length: 479624, dtype: int64\n"
     ]
    }
   ],
   "source": [
    "X_train, X_test, Y_train, Y_test = train_test_split(X, Y, test_size=0.2, random_state=12345)\n",
    "\n",
    "\n",
    "model = LinearRegression()\n",
    "\n",
    "#Fitting the model to training Data\n",
    "\n",
    "model.fit(X_train, Y_train)\n",
    "\n",
    "Y_pred = model.predict(X_test)\n",
    "\n",
    "# Calculate MAPE\n",
    "def MAPE(actual, predicted):\n",
    "    return np.mean(np.abs((actual - predicted) / actual)) * 100\n",
    "\n",
    "# Calculate MAPE for the predictions\n",
    "mape = MAPE(Y_test, Y_pred)\n",
    "\n",
    "# Print MAPE\n",
    "print(\"MAPE:\", mape)\n",
    "print(\"___________________________________________________\")\n",
    "print(\"Predictions:\", Y_pred)\n",
    "print(\"Test Labels:\", Y_test)"
   ]
  },
  {
   "cell_type": "code",
   "execution_count": null,
   "id": "181d9b7d",
   "metadata": {},
   "outputs": [],
   "source": []
  }
 ],
 "metadata": {
  "kernelspec": {
   "display_name": "Python 3 (ipykernel)",
   "language": "python",
   "name": "python3"
  },
  "language_info": {
   "codemirror_mode": {
    "name": "ipython",
    "version": 3
   },
   "file_extension": ".py",
   "mimetype": "text/x-python",
   "name": "python",
   "nbconvert_exporter": "python",
   "pygments_lexer": "ipython3",
   "version": "3.9.13"
  }
 },
 "nbformat": 4,
 "nbformat_minor": 5
}
