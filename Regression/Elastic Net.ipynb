{
 "cells": [
  {
   "cell_type": "code",
   "execution_count": 2,
   "id": "fb9edaf1",
   "metadata": {},
   "outputs": [],
   "source": [
    "from sklearn.linear_model import ElasticNet\n",
    "from sklearn.metrics import mean_absolute_percentage_error\n",
    "from sklearn.model_selection import train_test_split\n",
    "import pandas as pd"
   ]
  },
  {
   "cell_type": "code",
   "execution_count": 4,
   "id": "aa2d5dce",
   "metadata": {},
   "outputs": [],
   "source": [
    "# Loading the data\n",
    "\n",
    "df = pd.read_csv('../data/preprocessed/newborntrain_processed.csv', sep=\";\")\n",
    "#print(df.head())\n",
    "\n",
    "# Removing the target variable from the feature\n",
    "\n",
    "X = df.drop(\"newborn_weight\", axis=1)\n",
    "Y = df[\"newborn_weight\"]"
   ]
  },
  {
   "cell_type": "code",
   "execution_count": 9,
   "id": "110f7ad7",
   "metadata": {},
   "outputs": [
    {
     "data": {
      "text/plain": [
       "ElasticNet(alpha=0.5)"
      ]
     },
     "execution_count": 9,
     "metadata": {},
     "output_type": "execute_result"
    }
   ],
   "source": [
    "X_train, X_test, Y_train, Y_test = train_test_split(X, Y, test_size=0.2, random_state=12345)\n",
    "\n",
    "MLmodel = ElasticNet(alpha=0.5, l1_ratio=0.5)\n",
    "MLmodel.fit(X_train, Y_train)"
   ]
  },
  {
   "cell_type": "code",
   "execution_count": 10,
   "id": "b582daba",
   "metadata": {},
   "outputs": [
    {
     "name": "stdout",
     "output_type": "stream",
     "text": [
      "0.16369967266740842\n"
     ]
    }
   ],
   "source": [
    "Y_Pred = MLmodel.predict(X_test)\n",
    "\n",
    "Mape = mean_absolute_percentage_error(Y_test,Y_Pred)\n",
    "print(Mape)"
   ]
  },
  {
   "cell_type": "code",
   "execution_count": null,
   "id": "4d757b30",
   "metadata": {},
   "outputs": [],
   "source": []
  }
 ],
 "metadata": {
  "kernelspec": {
   "display_name": "Python 3 (ipykernel)",
   "language": "python",
   "name": "python3"
  },
  "language_info": {
   "codemirror_mode": {
    "name": "ipython",
    "version": 3
   },
   "file_extension": ".py",
   "mimetype": "text/x-python",
   "name": "python",
   "nbconvert_exporter": "python",
   "pygments_lexer": "ipython3",
   "version": "3.9.13"
  }
 },
 "nbformat": 4,
 "nbformat_minor": 5
}
