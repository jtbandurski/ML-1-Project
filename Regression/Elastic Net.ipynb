{
 "cells": [
  {
   "cell_type": "code",
   "execution_count": 2,
   "id": "fb9edaf1",
   "metadata": {},
   "outputs": [],
   "source": [
    "from sklearn.linear_model import ElasticNet\n",
    "from sklearn.model_selection import train_test_split\n",
    "import pandas as pd\n",
    "import numpy as np\n",
    "from sklearn.model_selection import train_test_split, RepeatedKFold, cross_validate, GridSearchCV\n",
    "from sklearn.metrics import make_scorer, mean_absolute_percentage_error\n",
    "from time import time\n",
    "from numpy import arange"
   ]
  },
  {
   "cell_type": "code",
   "execution_count": 3,
   "id": "aa2d5dce",
   "metadata": {},
   "outputs": [],
   "source": [
    "# Loading the data\n",
    "\n",
    "df = pd.read_csv('../data/preprocessed/newborntrain_processed.csv', sep=\";\")\n",
    "#print(df.head())\n",
    "\n",
    "# Removing the target variable from the feature\n",
    "\n",
    "X = df.drop(\"newborn_weight\", axis=1)\n",
    "Y = df[\"newborn_weight\"]"
   ]
  },
  {
   "cell_type": "code",
   "execution_count": 5,
   "id": "110f7ad7",
   "metadata": {},
   "outputs": [
    {
     "data": {
      "text/plain": [
       "ElasticNet(alpha=0.5)"
      ]
     },
     "execution_count": 5,
     "metadata": {},
     "output_type": "execute_result"
    }
   ],
   "source": [
    "X_train, X_test, Y_train, Y_test = train_test_split(X, Y, test_size=0.2, random_state=12345)\n",
    "\n",
    "MLmodel = ElasticNet(alpha=0.5, l1_ratio=0.5)\n",
    "MLmodel.fit(X_train, Y_train)"
   ]
  },
  {
   "cell_type": "code",
   "execution_count": 6,
   "id": "b582daba",
   "metadata": {},
   "outputs": [
    {
     "name": "stdout",
     "output_type": "stream",
     "text": [
      "0.16369967266740842\n"
     ]
    }
   ],
   "source": [
    "Y_Pred = MLmodel.predict(X_test)\n",
    "\n",
    "Mape = mean_absolute_percentage_error(Y_test,Y_Pred)\n",
    "print(Mape)"
   ]
  },
  {
   "cell_type": "markdown",
   "id": "7be75118",
   "metadata": {},
   "source": [
    "## Grid Search"
   ]
  },
  {
   "cell_type": "code",
   "execution_count": 15,
   "id": "a83240b3",
   "metadata": {},
   "outputs": [],
   "source": [
    "# Grid search results to df\n",
    "def gs_to_df(grid_search):\n",
    "    df = pd.DataFrame()\n",
    "    for param in param_grid[0].keys():\n",
    "        df[param] = 0\n",
    "    df[\"mean_train_score\"] = df[\"std_train_score\"] = df[\"mean_test_score\"] = df[\"std_test_score\"] = 0\n",
    "    for i in range(len(grid_search.cv_results_['params'])):\n",
    "        new_row = grid_search.cv_results_['params'][i] | {\"mean_train_score\": grid_search.cv_results_['mean_train_score'][i],\n",
    "                                                            \"std_train_score\": grid_search.cv_results_['std_train_score'][i],\n",
    "                                                            \"mean_test_score\": grid_search.cv_results_['mean_test_score'][i],\n",
    "                                                            \"std_test_score\": grid_search.cv_results_['std_test_score'][i]}\n",
    "        df.loc[len(df)] = new_row\n",
    "\n",
    "    return df"
   ]
  },
  {
   "cell_type": "code",
   "execution_count": 9,
   "id": "735a6e5d",
   "metadata": {},
   "outputs": [
    {
     "name": "stderr",
     "output_type": "stream",
     "text": [
      "C:\\Users\\mraer\\anaconda3\\lib\\site-packages\\sklearn\\linear_model\\_coordinate_descent.py:647: ConvergenceWarning: Objective did not converge. You might want to increase the number of iterations, check the scale of the features or consider increasing regularisation. Duality gap: 1.359e+08, tolerance: 6.687e+07\n",
      "  model = cd_fast.enet_coordinate_descent(\n",
      "C:\\Users\\mraer\\anaconda3\\lib\\site-packages\\sklearn\\linear_model\\_coordinate_descent.py:647: ConvergenceWarning: Objective did not converge. You might want to increase the number of iterations, check the scale of the features or consider increasing regularisation. Duality gap: 1.127e+08, tolerance: 6.689e+07\n",
      "  model = cd_fast.enet_coordinate_descent(\n",
      "C:\\Users\\mraer\\anaconda3\\lib\\site-packages\\sklearn\\linear_model\\_coordinate_descent.py:647: ConvergenceWarning: Objective did not converge. You might want to increase the number of iterations, check the scale of the features or consider increasing regularisation. Duality gap: 1.224e+08, tolerance: 6.682e+07\n",
      "  model = cd_fast.enet_coordinate_descent(\n"
     ]
    },
    {
     "name": "stdout",
     "output_type": "stream",
     "text": [
      "NMAPE: -0.163\n",
      "Config: {'alpha': 0.01, 'l1_ratio': 0.9}\n"
     ]
    }
   ],
   "source": [
    "model = ElasticNet()\n",
    "# define model evaluation method\n",
    "cv = RepeatedKFold(n_splits=5, n_repeats=2, random_state=12345)\n",
    "# define grid\n",
    "grid = dict()\n",
    "grid['alpha'] = [0.01, 0.1, 1.0, 4.0, 7.0, 10.0]\n",
    "grid['l1_ratio'] = [0.1, 0.3, 0.5, 0.7, 0.9]\n",
    "# define search\n",
    "search = GridSearchCV(model, grid, scoring='neg_mean_absolute_percentage_error', cv=rkf, return_train_score=True)\n",
    "# perform the search\n",
    "results = search.fit(X, Y)\n",
    "# summarize\n",
    "print('NMAPE: %.3f' % results.best_score_)\n",
    "print('Config: %s' % results.best_params_)"
   ]
  },
  {
   "cell_type": "code",
   "execution_count": 21,
   "id": "e8f89b24",
   "metadata": {},
   "outputs": [
    {
     "name": "stdout",
     "output_type": "stream",
     "text": [
      "    Mean Train Score  Mean Test Score  Std Train Score  Std Test Score\n",
      "4          -0.163120        -0.163122         0.000148        0.000599\n",
      "3          -0.163121        -0.163123         0.000148        0.000599\n",
      "2          -0.163122        -0.163124         0.000148        0.000599\n",
      "1          -0.163124        -0.163125         0.000148        0.000599\n",
      "0          -0.163125        -0.163126         0.000148        0.000599\n",
      "9          -0.163126        -0.163128         0.000148        0.000600\n",
      "8          -0.163144        -0.163146         0.000148        0.000601\n",
      "7          -0.163168        -0.163169         0.000148        0.000602\n",
      "6          -0.163194        -0.163195         0.000149        0.000603\n",
      "5          -0.163222        -0.163223         0.000149        0.000604\n",
      "14         -0.163263        -0.163264         0.000149        0.000605\n",
      "13         -0.163534        -0.163535         0.000150        0.000611\n",
      "12         -0.163734        -0.163735         0.000151        0.000614\n",
      "19         -0.163760        -0.163761         0.000151        0.000614\n",
      "11         -0.163884        -0.163885         0.000152        0.000616\n",
      "10         -0.164001        -0.164002         0.000152        0.000617\n",
      "24         -0.164099        -0.164100         0.000152        0.000618\n",
      "18         -0.164229        -0.164230         0.000152        0.000619\n",
      "29         -0.164347        -0.164348         0.000153        0.000620\n",
      "17         -0.164457        -0.164458         0.000153        0.000621\n",
      "23         -0.164552        -0.164553         0.000153        0.000622\n",
      "16         -0.164605        -0.164606         0.000154        0.000622\n",
      "15         -0.164717        -0.164718         0.000154        0.000623\n",
      "22         -0.164764        -0.164765         0.000154        0.000623\n",
      "28         -0.164764        -0.164765         0.000154        0.000623\n",
      "21         -0.164909        -0.164910         0.000154        0.000623\n",
      "27         -0.164971        -0.164972         0.000154        0.000624\n",
      "20         -0.165024        -0.165025         0.000154        0.000624\n",
      "26         -0.165121        -0.165122         0.000154        0.000624\n",
      "25         -0.165244        -0.165245         0.000154        0.000624\n"
     ]
    }
   ],
   "source": [
    "mean_train_score = results.cv_results_['mean_train_score']\n",
    "mean_test_score = results.cv_results_['mean_test_score']\n",
    "std_train_score = results.cv_results_['std_train_score']\n",
    "std_test_score = results.cv_results_['std_test_score']\n",
    "\n",
    "\n",
    "# Create a DataFrame to hold the scores\n",
    "df_scores = pd.DataFrame({\n",
    "    'Mean Train Score': mean_train_score,\n",
    "    'Mean Test Score': mean_test_score,\n",
    "    'Std Train Score': std_train_score,\n",
    "    'Std Test Score': std_test_score\n",
    "})\n",
    "\n",
    "sorted_df = df_scores.sort_values(by=\"Mean Test Score\", ascending=False)\n",
    "\n",
    "sorted_df.to_csv('./Validation/Elastic_Net_metrics_2_5_cv.csv', index=False,sep=';')\n",
    "\n",
    "# Print the DataFrame\n",
    "print(sorted_df)\n",
    "\n"
   ]
  },
  {
   "cell_type": "code",
   "execution_count": null,
   "id": "f06e4a25",
   "metadata": {},
   "outputs": [],
   "source": []
  }
 ],
 "metadata": {
  "kernelspec": {
   "display_name": "Python 3 (ipykernel)",
   "language": "python",
   "name": "python3"
  },
  "language_info": {
   "codemirror_mode": {
    "name": "ipython",
    "version": 3
   },
   "file_extension": ".py",
   "mimetype": "text/x-python",
   "name": "python",
   "nbconvert_exporter": "python",
   "pygments_lexer": "ipython3",
   "version": "3.9.13"
  }
 },
 "nbformat": 4,
 "nbformat_minor": 5
}
