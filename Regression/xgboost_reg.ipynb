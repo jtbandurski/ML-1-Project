{
 "cells": [
  {
   "attachments": {},
   "cell_type": "markdown",
   "metadata": {},
   "source": [
    "# Trying to run xgboost on cloud GPU lambdalabs"
   ]
  },
  {
   "attachments": {},
   "cell_type": "markdown",
   "metadata": {},
   "source": [
    "## Imports"
   ]
  },
  {
   "cell_type": "code",
   "execution_count": 1,
   "metadata": {},
   "outputs": [],
   "source": [
    "import pandas as pd\n",
    "import numpy as np\n",
    "from sklearn.model_selection import KFold, GridSearchCV\n",
    "from sklearn.metrics import mean_absolute_percentage_error\n",
    "from time import time\n",
    "import xgboost as xgb"
   ]
  },
  {
   "attachments": {},
   "cell_type": "markdown",
   "metadata": {},
   "source": [
    "## Data"
   ]
  },
  {
   "cell_type": "code",
   "execution_count": 2,
   "metadata": {},
   "outputs": [
    {
     "name": "stdout",
     "output_type": "stream",
     "text": [
      "(2398116, 17) (2398116,) (599561, 17)\n"
     ]
    }
   ],
   "source": [
    "newborn_train = pd.read_csv('../data/preprocessed/newborntrain_processed.csv', sep=\";\")\n",
    "newborn_test = pd.read_csv('../data/preprocessed/newborntest_processed.csv', sep=\";\")\n",
    "X_train = newborn_train.drop(\"newborn_weight\",axis=1)\n",
    "y_train = newborn_train['newborn_weight']\n",
    "X_test = newborn_test\n",
    "print(X_train.shape, y_train.shape, X_test.shape)"
   ]
  },
  {
   "attachments": {},
   "cell_type": "markdown",
   "metadata": {},
   "source": [
    "## Grid search"
   ]
  },
  {
   "cell_type": "code",
   "execution_count": 3,
   "metadata": {},
   "outputs": [],
   "source": [
    "# Grid search results to df\n",
    "def gs_to_df(grid_search):\n",
    "    df = pd.DataFrame()\n",
    "    for param in param_grid.keys():\n",
    "        df[param] = 0\n",
    "    df[\"mean_train_score\"] = df[\"std_train_score\"] = df[\"mean_test_score\"] = df[\"std_test_score\"] = 0\n",
    "    for i, params in enumerate(grid_search.cv_results_['params']):\n",
    "        new_row = params | {\"mean_train_score\": grid_search.cv_results_['mean_train_score'][i],\n",
    "                            \"std_train_score\": grid_search.cv_results_['std_train_score'][i],\n",
    "                            \"mean_test_score\": grid_search.cv_results_['mean_test_score'][i],\n",
    "                            \"std_test_score\": grid_search.cv_results_['std_test_score'][i]}\n",
    "        df.loc[len(df)] = new_row\n",
    "\n",
    "    return df\n",
    "    "
   ]
  },
  {
   "cell_type": "code",
   "execution_count": null,
   "metadata": {},
   "outputs": [],
   "source": [
    "start_time = time()\n",
    "# Grid \n",
    "param_grid = {'tree_method': ['gpu_hist'],'objective': ['binary:logistic'], 'eta':[0.3],'max_depth': [6], 'lambda': [1] ,'verbosity': [2]}\n",
    "# Cross Validation\n",
    "rskf = KFold(n_splits=5, shuffle=True, random_state=12345)\n",
    "# Grid Search\n",
    "grid_search = GridSearchCV(estimator=xgb.XGBRegressor(), param_grid=param_grid, scoring=\"neg_mean_absolute_percentage_error\", \n",
    "                            n_jobs=1, cv=rskf, verbose=2, return_train_score=True)\n",
    "grid_search.fit(X_train,y_train)\n",
    "print(\"--- %s seconds ---\" % (time() - start_time))"
   ]
  },
  {
   "cell_type": "code",
   "execution_count": null,
   "metadata": {},
   "outputs": [],
   "source": [
    "df = gs_to_df(grid_search=grid_search)\n",
    "df.sort_values(ascending=False,by=\"mean_test_score\").to_csv('xgb0_reg_5cv.csv', index=False,sep=';')\n",
    "df.sort_values(ascending=False,by=\"mean_test_score\")"
   ]
  }
 ],
 "metadata": {
  "kernelspec": {
   "display_name": ".venv",
   "language": "python",
   "name": "python3"
  },
  "language_info": {
   "codemirror_mode": {
    "name": "ipython",
    "version": 3
   },
   "file_extension": ".py",
   "mimetype": "text/x-python",
   "name": "python",
   "nbconvert_exporter": "python",
   "pygments_lexer": "ipython3",
   "version": "3.10.11"
  },
  "orig_nbformat": 4
 },
 "nbformat": 4,
 "nbformat_minor": 2
}
