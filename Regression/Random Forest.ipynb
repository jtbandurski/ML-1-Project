{
 "cells": [
  {
   "cell_type": "code",
   "execution_count": 5,
   "id": "ccca5b87",
   "metadata": {},
   "outputs": [],
   "source": [
    "import pandas as pd\n",
    "import numpy as np\n",
    "\n",
    "from sklearn.model_selection import train_test_split\n",
    "from sklearn.ensemble import RandomForestRegressor\n",
    "from sklearn.metrics import mean_absolute_percentage_error"
   ]
  },
  {
   "cell_type": "code",
   "execution_count": 6,
   "id": "f6164786",
   "metadata": {},
   "outputs": [],
   "source": [
    "# Loading the data\n",
    "\n",
    "df = pd.read_csv('../data/preprocessed/newborntrain_processed.csv', sep=\";\")\n",
    "#print(df.head())\n",
    "\n",
    "# Removing the target variable from the feature\n",
    "\n",
    "X = df.drop(\"newborn_weight\", axis=1)\n",
    "Y = df[\"newborn_weight\"]"
   ]
  },
  {
   "cell_type": "code",
   "execution_count": 8,
   "id": "e5828a10",
   "metadata": {},
   "outputs": [
    {
     "data": {
      "text/plain": [
       "RandomForestRegressor(max_depth=10)"
      ]
     },
     "execution_count": 8,
     "metadata": {},
     "output_type": "execute_result"
    }
   ],
   "source": [
    "X_train, X_test, Y_train, Y_test = train_test_split(X, Y, test_size=0.2, random_state=12345)\n",
    "\n",
    "MLmodel = RandomForestRegressor(n_estimators=100, max_depth=10)\n",
    "MLmodel.fit(X_train,Y_train)\n",
    "\n",
    "#Generating Predictions\n"
   ]
  },
  {
   "cell_type": "code",
   "execution_count": 12,
   "id": "8e1cbc97",
   "metadata": {},
   "outputs": [
    {
     "name": "stdout",
     "output_type": "stream",
     "text": [
      "0.15710854752659034\n"
     ]
    }
   ],
   "source": [
    "Y_Pred = MLmodel.predict(X_test)\n",
    "\n",
    "Mape = mean_absolute_percentage_error(Y_test,Y_Pred)\n",
    "print(Mape)"
   ]
  },
  {
   "cell_type": "markdown",
   "id": "c3d83739",
   "metadata": {},
   "source": [
    "## Data Predictn"
   ]
  },
  {
   "cell_type": "code",
   "execution_count": 16,
   "id": "5d28f636",
   "metadata": {},
   "outputs": [
    {
     "name": "stdout",
     "output_type": "stream",
     "text": [
      "(599561,)\n",
      "[3278.09912106 3323.20858123 3119.88821002 ... 3326.45405799 3506.41335563\n",
      " 3131.64071718]\n"
     ]
    }
   ],
   "source": [
    "df_test = pd.read_csv(\"../data/preprocessed/newborntest_processed.csv\", sep=\";\")\n",
    "#print(df_test.info)\n",
    "\n",
    "pred = MLmodel.predict(df_test)\n",
    "df_test['predicted_weight'] = pred\n",
    "print(pred.shape)\n",
    "print(pred)\n",
    "\n",
    "df_test.to_csv('..\\data\\Result\\RandomForestPred.csv')"
   ]
  },
  {
   "cell_type": "code",
   "execution_count": null,
   "id": "a4cfc66a",
   "metadata": {},
   "outputs": [],
   "source": []
  }
 ],
 "metadata": {
  "kernelspec": {
   "display_name": "Python 3 (ipykernel)",
   "language": "python",
   "name": "python3"
  },
  "language_info": {
   "codemirror_mode": {
    "name": "ipython",
    "version": 3
   },
   "file_extension": ".py",
   "mimetype": "text/x-python",
   "name": "python",
   "nbconvert_exporter": "python",
   "pygments_lexer": "ipython3",
   "version": "3.9.13"
  }
 },
 "nbformat": 4,
 "nbformat_minor": 5
}
