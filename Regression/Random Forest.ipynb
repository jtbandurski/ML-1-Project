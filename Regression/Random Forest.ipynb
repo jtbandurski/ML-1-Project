{
 "cells": [
  {
   "cell_type": "code",
   "execution_count": 14,
   "id": "ccca5b87",
   "metadata": {},
   "outputs": [],
   "source": [
    "import pandas as pd\n",
    "import numpy as np\n",
    "from time import time\n",
    "from sklearn.model_selection import train_test_split\n",
    "#from sklearn.model_selection import GridSearchCV\n",
    "from sklearn.ensemble import RandomForestRegressor\n",
    "#from sklearn.metrics import mean_absolute_percentage_error\n",
    "from sklearn.model_selection import train_test_split, RepeatedKFold, cross_validate, GridSearchCV\n",
    "from sklearn.metrics import make_scorer, mean_absolute_percentage_error"
   ]
  },
  {
   "cell_type": "code",
   "execution_count": 15,
   "id": "f6164786",
   "metadata": {},
   "outputs": [],
   "source": [
    "# Loading the data\n",
    "\n",
    "df = pd.read_csv('../data/preprocessed/newborntrain_processed.csv', sep=\";\")\n",
    "#print(df.head())\n",
    "\n",
    "# Removing the target variable from the feature\n",
    "\n",
    "X = df.drop(\"newborn_weight\", axis=1)\n",
    "Y = df[\"newborn_weight\"]"
   ]
  },
  {
   "cell_type": "code",
   "execution_count": 16,
   "id": "e5828a10",
   "metadata": {},
   "outputs": [
    {
     "data": {
      "text/plain": [
       "RandomForestRegressor(max_depth=10)"
      ]
     },
     "execution_count": 16,
     "metadata": {},
     "output_type": "execute_result"
    }
   ],
   "source": [
    "X_train, X_test, Y_train, Y_test = train_test_split(X, Y, test_size=0.2, random_state=12345)\n",
    "\n",
    "MLmodel = RandomForestRegressor(n_estimators=100, max_depth=10)\n",
    "MLmodel.fit(X_train,Y_train)\n",
    "\n",
    "#Generating Predictions\n"
   ]
  },
  {
   "cell_type": "code",
   "execution_count": 17,
   "id": "8e1cbc97",
   "metadata": {},
   "outputs": [
    {
     "name": "stdout",
     "output_type": "stream",
     "text": [
      "0.15711632071528606\n"
     ]
    }
   ],
   "source": [
    "Y_Pred = MLmodel.predict(X_test)\n",
    "\n",
    "Mape = mean_absolute_percentage_error(Y_test,Y_Pred)\n",
    "print(Mape)"
   ]
  },
  {
   "cell_type": "markdown",
   "id": "c3d83739",
   "metadata": {},
   "source": [
    "## Data Predictn"
   ]
  },
  {
   "cell_type": "code",
   "execution_count": 18,
   "id": "5d28f636",
   "metadata": {},
   "outputs": [
    {
     "name": "stdout",
     "output_type": "stream",
     "text": [
      "(599561,)\n",
      "[3304.0421927  3323.59606465 3106.21339174 ... 3325.07555037 3515.67726969\n",
      " 3144.05924391]\n"
     ]
    }
   ],
   "source": [
    "df_test = pd.read_csv(\"../data/preprocessed/newborntest_processed.csv\", sep=\";\")\n",
    "#print(df_test.info)\n",
    "\n",
    "pred = MLmodel.predict(df_test)\n",
    "df_test['predicted_weight'] = pred\n",
    "print(pred.shape)\n",
    "print(pred)\n",
    "\n",
    "df_test.to_csv('..\\data\\Result\\RandomForestPred.csv')"
   ]
  },
  {
   "cell_type": "markdown",
   "id": "7fc38bb1",
   "metadata": {},
   "source": [
    "## Grid Search"
   ]
  },
  {
   "cell_type": "code",
   "execution_count": 19,
   "id": "9b712922",
   "metadata": {},
   "outputs": [],
   "source": [
    "def gs_to_df(grid_search):\n",
    "    df = pd.DataFrame()\n",
    "    for param in param_grid[0].keys():\n",
    "        df[param] = 0\n",
    "    df[\"mean_train_score\"] = df[\"std_train_score\"] = df[\"mean_test_score\"] = df[\"std_test_score\"] = 0\n",
    "    for i in range(len(grid_search.cv_results_['params'])):\n",
    "        new_row = grid_search.cv_results_['params'][i] | {\"mean_train_score\": grid_search.cv_results_['mean_train_score'][i],\n",
    "                                                            \"std_train_score\": grid_search.cv_results_['std_train_score'][i],\n",
    "                                                            \"mean_test_score\": grid_search.cv_results_['mean_test_score'][i],\n",
    "                                                            \"std_test_score\": grid_search.cv_results_['std_test_score'][i]}\n",
    "        df.loc[len(df)] = new_row\n",
    "\n",
    "    return df"
   ]
  },
  {
   "cell_type": "code",
   "execution_count": 20,
   "id": "93c904f3",
   "metadata": {},
   "outputs": [
    {
     "name": "stdout",
     "output_type": "stream",
     "text": [
      "--- 54452.195158958435 seconds ---\n"
     ]
    }
   ],
   "source": [
    "start_time = time()\n",
    "# Grid \n",
    "param_grid = [{\n",
    "    'n_estimators': [50, 100, 200],  # Example values for n_estimators\n",
    "    'max_depth': [5, 10]  # Example values for max_depth\n",
    "}]\n",
    "\n",
    "model = RandomForestRegressor()\n",
    "\n",
    "# Cross Validation\n",
    "rkf = RepeatedKFold(n_splits=5, n_repeats=2, random_state=12345)\n",
    "# Grid Search\n",
    "grid_search = GridSearchCV(estimator=model, param_grid=param_grid, scoring=\"neg_mean_absolute_percentage_error\", \n",
    "                            n_jobs=-1, cv=rkf, return_train_score=True)\n",
    "grid_search.fit(X,Y)\n",
    "print(\"--- %s seconds ---\" % (time() - start_time))"
   ]
  },
  {
   "cell_type": "code",
   "execution_count": 24,
   "id": "16e44acb",
   "metadata": {},
   "outputs": [
    {
     "data": {
      "text/html": [
       "<div>\n",
       "<style scoped>\n",
       "    .dataframe tbody tr th:only-of-type {\n",
       "        vertical-align: middle;\n",
       "    }\n",
       "\n",
       "    .dataframe tbody tr th {\n",
       "        vertical-align: top;\n",
       "    }\n",
       "\n",
       "    .dataframe thead th {\n",
       "        text-align: right;\n",
       "    }\n",
       "</style>\n",
       "<table border=\"1\" class=\"dataframe\">\n",
       "  <thead>\n",
       "    <tr style=\"text-align: right;\">\n",
       "      <th></th>\n",
       "      <th>n_estimators</th>\n",
       "      <th>max_depth</th>\n",
       "      <th>mean_train_score</th>\n",
       "      <th>std_train_score</th>\n",
       "      <th>mean_test_score</th>\n",
       "      <th>std_test_score</th>\n",
       "    </tr>\n",
       "  </thead>\n",
       "  <tbody>\n",
       "    <tr>\n",
       "      <th>5</th>\n",
       "      <td>200</td>\n",
       "      <td>10</td>\n",
       "      <td>-0.156120</td>\n",
       "      <td>0.000135</td>\n",
       "      <td>-0.156878</td>\n",
       "      <td>0.000573</td>\n",
       "    </tr>\n",
       "    <tr>\n",
       "      <th>4</th>\n",
       "      <td>100</td>\n",
       "      <td>10</td>\n",
       "      <td>-0.156127</td>\n",
       "      <td>0.000133</td>\n",
       "      <td>-0.156885</td>\n",
       "      <td>0.000573</td>\n",
       "    </tr>\n",
       "    <tr>\n",
       "      <th>3</th>\n",
       "      <td>50</td>\n",
       "      <td>10</td>\n",
       "      <td>-0.156136</td>\n",
       "      <td>0.000140</td>\n",
       "      <td>-0.156892</td>\n",
       "      <td>0.000563</td>\n",
       "    </tr>\n",
       "    <tr>\n",
       "      <th>2</th>\n",
       "      <td>200</td>\n",
       "      <td>5</td>\n",
       "      <td>-0.161008</td>\n",
       "      <td>0.000159</td>\n",
       "      <td>-0.161043</td>\n",
       "      <td>0.000566</td>\n",
       "    </tr>\n",
       "    <tr>\n",
       "      <th>1</th>\n",
       "      <td>100</td>\n",
       "      <td>5</td>\n",
       "      <td>-0.161010</td>\n",
       "      <td>0.000155</td>\n",
       "      <td>-0.161045</td>\n",
       "      <td>0.000571</td>\n",
       "    </tr>\n",
       "    <tr>\n",
       "      <th>0</th>\n",
       "      <td>50</td>\n",
       "      <td>5</td>\n",
       "      <td>-0.161011</td>\n",
       "      <td>0.000161</td>\n",
       "      <td>-0.161047</td>\n",
       "      <td>0.000565</td>\n",
       "    </tr>\n",
       "  </tbody>\n",
       "</table>\n",
       "</div>"
      ],
      "text/plain": [
       "   n_estimators  max_depth  mean_train_score  std_train_score  \\\n",
       "5           200         10         -0.156120         0.000135   \n",
       "4           100         10         -0.156127         0.000133   \n",
       "3            50         10         -0.156136         0.000140   \n",
       "2           200          5         -0.161008         0.000159   \n",
       "1           100          5         -0.161010         0.000155   \n",
       "0            50          5         -0.161011         0.000161   \n",
       "\n",
       "   mean_test_score  std_test_score  \n",
       "5        -0.156878        0.000573  \n",
       "4        -0.156885        0.000573  \n",
       "3        -0.156892        0.000563  \n",
       "2        -0.161043        0.000566  \n",
       "1        -0.161045        0.000571  \n",
       "0        -0.161047        0.000565  "
      ]
     },
     "execution_count": 24,
     "metadata": {},
     "output_type": "execute_result"
    }
   ],
   "source": [
    "df = gs_to_df(grid_search=grid_search)\n",
    "df.sort_values(ascending=False,by=\"mean_test_score\").to_csv('./Validation/RandomForest_metrics_2_5_cv.csv', index=False,sep=';')\n",
    "df.sort_values(ascending=False,by=\"mean_test_score\")\n",
    "#print(df_sorted)"
   ]
  },
  {
   "cell_type": "code",
   "execution_count": null,
   "id": "097c9474",
   "metadata": {},
   "outputs": [],
   "source": []
  },
  {
   "cell_type": "code",
   "execution_count": null,
   "id": "b8c80f9f",
   "metadata": {},
   "outputs": [],
   "source": []
  }
 ],
 "metadata": {
  "kernelspec": {
   "display_name": "Python 3 (ipykernel)",
   "language": "python",
   "name": "python3"
  },
  "language_info": {
   "codemirror_mode": {
    "name": "ipython",
    "version": 3
   },
   "file_extension": ".py",
   "mimetype": "text/x-python",
   "name": "python",
   "nbconvert_exporter": "python",
   "pygments_lexer": "ipython3",
   "version": "3.9.13"
  }
 },
 "nbformat": 4,
 "nbformat_minor": 5
}
