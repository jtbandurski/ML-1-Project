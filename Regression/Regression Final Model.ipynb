{
 "cells": [
  {
   "cell_type": "markdown",
   "id": "892b9a20",
   "metadata": {},
   "source": [
    "# Authors: Jakub Bandurski, Anirban Das"
   ]
  },
  {
   "cell_type": "markdown",
   "id": "4e21e214",
   "metadata": {},
   "source": [
    "## This notebook performs all necessary computations needed to generate predictions of the final model for the regression task\n",
    "\n",
    "Data Source: Provided by the Professor in the Class"
   ]
  },
  {
   "cell_type": "markdown",
   "id": "482d6a43",
   "metadata": {},
   "source": [
    "## 1. Library Imports"
   ]
  },
  {
   "cell_type": "code",
   "execution_count": 4,
   "id": "c240488e",
   "metadata": {},
   "outputs": [],
   "source": [
    "import pandas as pd\n",
    "import numpy as np\n",
    "from time import time\n",
    "from sklearn.model_selection import train_test_split\n",
    "#from sklearn.model_selection import GridSearchCV\n",
    "from sklearn.ensemble import RandomForestRegressor\n",
    "#from sklearn.metrics import mean_absolute_percentage_error\n",
    "from sklearn.model_selection import train_test_split, RepeatedKFold, cross_validate, GridSearchCV\n",
    "from sklearn.metrics import make_scorer, mean_absolute_percentage_error"
   ]
  },
  {
   "cell_type": "markdown",
   "id": "1f6d3de5",
   "metadata": {},
   "source": [
    "## 2. Model Training and Final Testing\n",
    "\n",
    "Note: Both Test and Train Data with all necessary initial processing is performed in Data_Preprocessing.ipynb file. The processed data is imported here."
   ]
  },
  {
   "cell_type": "code",
   "execution_count": 5,
   "id": "ed9e5877",
   "metadata": {},
   "outputs": [
    {
     "name": "stdout",
     "output_type": "stream",
     "text": [
      "0.157110394459117\n"
     ]
    }
   ],
   "source": [
    "# Loading the training data\n",
    "df = pd.read_csv('../data/preprocessed/newborntrain_processed.csv', sep=\";\")\n",
    "#print(df.head())\n",
    "# Removing the target variable from the feature\n",
    "X = df.drop(\"newborn_weight\", axis=1)\n",
    "Y = df[\"newborn_weight\"]\n",
    "\n",
    "X_train, X_test, Y_train, Y_test = train_test_split(X, Y, test_size=0.2, random_state=12345)\n",
    "\n",
    "MLmodel = RandomForestRegressor(n_estimators=200, max_depth=10)\n",
    "MLmodel.fit(X_train,Y_train)\n",
    "\n",
    "Y_Pred = MLmodel.predict(X_test)\n",
    "\n",
    "Mape = mean_absolute_percentage_error(Y_test,Y_Pred)\n"
   ]
  },
  {
   "cell_type": "markdown",
   "id": "f8ebaa94",
   "metadata": {},
   "source": [
    "## 3. Data Prediction"
   ]
  },
  {
   "cell_type": "code",
   "execution_count": 7,
   "id": "cebefb05",
   "metadata": {},
   "outputs": [
    {
     "name": "stdout",
     "output_type": "stream",
     "text": [
      "(599561,)\n",
      "[3304.35318089 3326.27637093 3103.3795382  ... 3321.11493172 3510.19309511\n",
      " 3137.8997528 ]\n"
     ]
    }
   ],
   "source": [
    "df_test = pd.read_csv(\"../data/preprocessed/newborntest_processed.csv\", sep=\";\")\n",
    "#print(df_test.info)\n",
    "\n",
    "pred = MLmodel.predict(df_test)\n",
    "df_test['predicted_weight'] = pred\n",
    "print(pred.shape)\n",
    "print(pred)\n",
    "\n",
    "df_test.to_csv('RandomForestPred.csv')"
   ]
  },
  {
   "cell_type": "code",
   "execution_count": null,
   "id": "17630ef0",
   "metadata": {},
   "outputs": [],
   "source": []
  },
  {
   "cell_type": "code",
   "execution_count": null,
   "id": "6e8adeab",
   "metadata": {},
   "outputs": [],
   "source": []
  }
 ],
 "metadata": {
  "kernelspec": {
   "display_name": "Python 3 (ipykernel)",
   "language": "python",
   "name": "python3"
  },
  "language_info": {
   "codemirror_mode": {
    "name": "ipython",
    "version": 3
   },
   "file_extension": ".py",
   "mimetype": "text/x-python",
   "name": "python",
   "nbconvert_exporter": "python",
   "pygments_lexer": "ipython3",
   "version": "3.9.13"
  }
 },
 "nbformat": 4,
 "nbformat_minor": 5
}
